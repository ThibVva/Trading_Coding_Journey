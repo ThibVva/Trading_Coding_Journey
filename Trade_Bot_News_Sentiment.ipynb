{
 "cells": [
  {
   "cell_type": "markdown",
   "metadata": {},
   "source": [
    "SENTIMENT ANALYSIS\n",
    "\n",
    "We will use the VADER library (included in the nltk library) to compute a sentiment score for each headlines of a stock. VADER is lexicon-based so it uses keywords to give a score.\n",
    "We use NVIDIA here because there are lots of news on this company nowadays.\n",
    "We get our news from finviz website because it aggregates news from different media sources (YF, Reuters, CNBC..) and it is free."
   ]
  },
  {
   "cell_type": "code",
   "execution_count": null,
   "metadata": {},
   "outputs": [],
   "source": [
    "from urllib.request import urlopen\n",
    "from bs4 import BeautifulSoup\n",
    "import pandas as pd\n",
    "import plotly.express as px\n",
    "import nltk\n",
    "nltk.downloader.download('vader_lexicon')\n",
    "from nltk.sentiment.vader import SentimentIntensityAnalyzer\n",
    "import requests"
   ]
  },
  {
   "cell_type": "code",
   "execution_count": 2,
   "metadata": {},
   "outputs": [],
   "source": [
    "#We use finviz website because it aggregates the news from different medias (reuteurs, cnbc...) and it is free\n",
    "finviz_url = 'https://finviz.com/quote.ashx?t='"
   ]
  },
  {
   "cell_type": "markdown",
   "metadata": {},
   "source": [
    "Step 1: Webscrapping the finviz website, parsing the html response"
   ]
  },
  {
   "cell_type": "code",
   "execution_count": 3,
   "metadata": {},
   "outputs": [
    {
     "data": {
      "text/plain": [
       "<table border=\"0\" cellpadding=\"1\" cellspacing=\"0\" class=\"fullview-news-outer news-table\" id=\"news-table\" width=\"100%\">\n",
       "<tr class=\"cursor-pointer has-label\" onclick=\"trackAndOpenNews(event, 'Motley Fool', 'https://www.fool.com/investing/2025/03/23/2-magnificent-seven-stocks-to-buy-on-the-dip/?source=finviz\\u0026utm_source=finviz-host-full\\u0026utm_medium=feed\\u0026utm_campaign=article\\u0026referring_guid=3bdc1c1c-5f8c-4449-b8eb-82026ed8ac72');\">\n",
       "<td align=\"right\" width=\"130\">\n",
       "            Today 04:30AM\n",
       "        </td>\n",
       "<td align=\"left\">\n",
       "<div class=\"news-link-container\">\n",
       "<div class=\"news-link-left\">\n",
       "<a class=\"tab-link-news\" href=\"https://www.fool.com/investing/2025/03/23/2-magnificent-seven-stocks-to-buy-on-the-dip/?source=finviz&amp;utm_source=finviz-host-full&amp;utm_medium=feed&amp;utm_campaign=article&amp;referring_guid=3bdc1c1c-5f8c-4449-b8eb-82026ed8ac72\" rel=\"nofollow\" target=\"_blank\">2 \"Magnificent Seven\" Stocks to Buy on the Dip</a>\n",
       "</div>\n",
       "<div class=\"news-link-right\">\n",
       "<span>(Motley Fool)</span></div></div></td></tr>\n",
       "<tr class=\"cursor-pointer has-label\" onclick=\"trackAndOpenNews(event, 'Motley Fool', 'https://www.fool.com/investing/2025/03/23/palantir-stock-vs-nvidia-stock-wall-street-buy-50/?source=finviz\\u0026utm_source=finviz-host-full\\u0026utm_medium=feed\\u0026utm_campaign=article\\u0026referring_guid=5018264c-e5bd-485a-81a4-5bdc625bbbb9');\">\n",
       "<td align=\"right\" width=\"130\">\n",
       "            03:55AM\n",
       "        </td>\n",
       "<td align=\"left\">\n",
       "<div class=\"news-link-container\">\n",
       "<div class=\"news-link-left\">\n",
       "<a class=\"tab-link-news\" href=\"https://www.fool.com/investing/2025/03/23/palantir-stock-vs-nvidia-stock-wall-street-buy-50/?source=finviz&amp;utm_source=finviz-host-full&amp;utm_medium=feed&amp;utm_campaign=article&amp;referring_guid=5018264c-e5bd-485a-81a4-5bdc625bbbb9\" rel=\"nofollow\" target=\"_blank\">Palantir Stock vs. Nvidia Stock: Wall Street Says Buy One Before It Soars 50%</a>\n",
       "</div>\n",
       "<div class=\"news-link-right\">\n",
       "<span>(Motley Fool)</span></div></div></td></tr>\n",
       "<tr class=\"cursor-pointer has-label\" onclick=\"trackAndOpenNews(event, 'SeekingAlpha', 'https://seekingalpha.com/article/4769739-broadcom-trillion-dollar-timeout-rating-downgrade?utm_source=finviz.com\\u0026utm_medium=referral\\u0026feed_item_type=article');\">\n",
       "<td align=\"right\" width=\"130\">\n",
       "            03:02AM\n",
       "        </td>\n",
       "<td align=\"left\">\n",
       "<div class=\"news-link-container\">\n",
       "<div class=\"news-link-left\">\n",
       "<a class=\"tab-link-news\" href=\"https://seekingalpha.com/article/4769739-broadcom-trillion-dollar-timeout-rating-downgrade?utm_source=finviz.com&amp;utm_medium=referral&amp;feed_item_type=article\" rel=\"nofollow\" target=\"_blank\">Broadcom: Trillion Dollar Timeout (Rating Downgrade)</a>\n",
       "</div>\n",
       "<div class=\"news-link-right\">\n",
       "<span>(SeekingAlpha)</span></div></div></td></tr>\n",
       "<tr class=\"cursor-pointer has-label\" onclick=\"trackAndOpenNews(event, 'SeekingAlpha', 'https://seekingalpha.com/article/4769736-nvidia-ignore-the-noise-and-buy-the-dip?utm_source=finviz.com\\u0026utm_medium=referral\\u0026feed_item_type=article');\">\n",
       "<td align=\"right\" width=\"130\">\n",
       "            02:06AM\n",
       "        </td>\n",
       "<td align=\"left\">\n",
       "<div class=\"news-link-container\">\n",
       "<div class=\"news-link-left\">\n",
       "<a class=\"tab-link-news\" href=\"https://seekingalpha.com/article/4769736-nvidia-ignore-the-noise-and-buy-the-dip?utm_source=finviz.com&amp;utm_medium=referral&amp;feed_item_type=article\" rel=\"nofollow\" target=\"_blank\">Nvidia: Ignore The Noise And Buy The Dip</a>\n",
       "</div>\n",
       "<div class=\"news-link-right\">\n",
       "<span>(SeekingAlpha)</span></div></div></td></tr>\n",
       "<tr class=\"cursor-pointer has-label\" onclick=\"trackAndOpenNews(event, 'Insider Monkey', 'https://www.insidermonkey.com/blog/is-nvidia-corporation-nvda-the-best-stock-to-buy-according-to-billionaire-ray-dalio-2-1489780/');\">\n",
       "<td align=\"right\" width=\"130\">\n",
       "            Mar-22-25 08:55PM\n",
       "        </td>\n",
       "<td align=\"left\">\n",
       "<div class=\"news-link-container\">\n",
       "<div class=\"news-link-left\">\n",
       "<a class=\"tab-link-news\" href=\"https://www.insidermonkey.com/blog/is-nvidia-corporation-nvda-the-best-stock-to-buy-according-to-billionaire-ray-dalio-2-1489780/\" rel=\"nofollow\" target=\"_blank\">Is NVIDIA Corporation (NVDA) The Best Stock to Buy According to Billionaire Ray Dalio?</a>\n",
       "</div>\n",
       "<div class=\"news-link-right\">\n",
       "<span>(Insider Monkey)</span></div></div></td></tr>\n",
       "<tr class=\"cursor-pointer has-label\" onclick=\"trackAndOpenNews(event, 'Motley Fool', 'https://www.fool.com/investing/2025/03/22/ai-stocks-the-silver-lining-in-tech-market/?source=finviz\\u0026utm_source=finviz-host-full\\u0026utm_medium=feed\\u0026utm_campaign=article\\u0026referring_guid=7a81f5af-a03f-47d3-bbeb-2febb9b90e60');\">\n",
       "<td align=\"right\" width=\"130\">\n",
       "            06:30PM\n",
       "        </td>\n",
       "<td align=\"left\">\n",
       "<div class=\"news-link-container\">\n",
       "<div class=\"news-link-left\">\n",
       "<a class=\"tab-link-news\" href=\"https://www.fool.com/investing/2025/03/22/ai-stocks-the-silver-lining-in-tech-market/?source=finviz&amp;utm_source=finviz-host-full&amp;utm_medium=feed&amp;utm_campaign=article&amp;referring_guid=7a81f5af-a03f-47d3-bbeb-2febb9b90e60\" rel=\"nofollow\" target=\"_blank\">AI Stocks: The Silver Lining in an Otherwise Stormy Tech Market</a>\n",
       "</div>\n",
       "<div class=\"news-link-right\">\n",
       "<span>(Motley Fool)</span></div></div></td></tr>\n",
       "<tr class=\"cursor-pointer has-label\" onclick=\"trackAndOpenNews(event, 'Motley Fool', 'https://www.fool.com/investing/2025/03/22/where-will-nvidia-stock-be-in-3-years/?source=finviz\\u0026utm_source=finviz-host-full\\u0026utm_medium=feed\\u0026utm_campaign=article\\u0026referring_guid=57a775a7-7e61-4038-ba26-b0d815bf635f');\">\n",
       "<td align=\"right\" width=\"130\">\n",
       "            06:00PM\n",
       "        </td>\n",
       "<td align=\"left\">\n",
       "<div class=\"news-link-container\">\n",
       "<div class=\"news-link-left\">\n",
       "<a class=\"tab-link-news\" href=\"https://www.fool.com/investing/2025/03/22/where-will-nvidia-stock-be-in-3-years/?source=finviz&amp;utm_source=finviz-host-full&amp;utm_medium=feed&amp;utm_campaign=article&amp;referring_guid=57a775a7-7e61-4038-ba26-b0d815bf635f\" rel=\"nofollow\" target=\"_blank\">Where Will Nvidia Stock Be in 3 Years?</a>\n",
       "</div>\n",
       "<div class=\"news-link-right\">\n",
       "<span>(Motley Fool)</span></div></div></td></tr>\n",
       "<tr class=\"cursor-pointer has-label\" onclick=\"trackAndOpenNews(event, 'InsiderMonkey', 'https://www.insidermonkey.com/blog/jim-cramer-on-nvidia-nvda-nothings-more-powerful-than-multiple-compression-1489054');\">\n",
       "<td align=\"right\" width=\"130\">\n",
       "            03:24PM\n",
       "        </td>\n",
       "<td align=\"left\">\n",
       "<div class=\"news-link-container\">\n",
       "<div class=\"news-link-left\">\n",
       "<a class=\"tab-link-news\" href=\"https://www.insidermonkey.com/blog/jim-cramer-on-nvidia-nvda-nothings-more-powerful-than-multiple-compression-1489054\" rel=\"nofollow\" target=\"_blank\">Jim Cramer on NVIDIA (NVDA): 'Nothing's More Powerful Than Multiple Compression'</a>\n",
       "</div>\n",
       "<div class=\"news-link-right\">\n",
       "<span>(InsiderMonkey)</span></div></div></td></tr>\n",
       "<tr class=\"cursor-pointer has-label\" onclick=\"trackAndOpenNews(event, 'Motley Fool', 'https://www.fool.com/investing/2025/03/22/1-trillion-reasons-to-buy-nvidias-stock-right-now/?source=finviz\\u0026utm_source=finviz-host-full\\u0026utm_medium=feed\\u0026utm_campaign=article\\u0026referring_guid=75cd5b0f-be36-4cdb-bdbf-94f46329e7aa');\">\n",
       "<td align=\"right\" width=\"130\">\n",
       "            02:00PM\n",
       "        </td>\n",
       "<td align=\"left\">\n",
       "<div class=\"news-link-container\">\n",
       "<div class=\"news-link-left\">\n",
       "<a class=\"tab-link-news\" href=\"https://www.fool.com/investing/2025/03/22/1-trillion-reasons-to-buy-nvidias-stock-right-now/?source=finviz&amp;utm_source=finviz-host-full&amp;utm_medium=feed&amp;utm_campaign=article&amp;referring_guid=75cd5b0f-be36-4cdb-bdbf-94f46329e7aa\" rel=\"nofollow\" target=\"_blank\">1 Trillion Reasons to Buy Nvidia's Stock Right Now</a>\n",
       "</div>\n",
       "<div class=\"news-link-right\">\n",
       "<span>(Motley Fool)</span></div></div></td></tr>\n",
       "<tr class=\"cursor-pointer has-label\" onclick=\"trackAndOpenNews(event, 'SeekingAlpha', 'https://seekingalpha.com/article/4769683-vug-mag-7-now-the-lag-7-better-valuation-weaker-chart?utm_source=finviz.com\\u0026utm_medium=referral\\u0026feed_item_type=article');\">\n",
       "<td align=\"right\" width=\"130\">\n",
       "            08:15AM\n",
       "        </td>\n",
       "<td align=\"left\">\n",
       "<div class=\"news-link-container\">\n",
       "<div class=\"news-link-left\">\n",
       "<a class=\"tab-link-news\" href=\"https://seekingalpha.com/article/4769683-vug-mag-7-now-the-lag-7-better-valuation-weaker-chart?utm_source=finviz.com&amp;utm_medium=referral&amp;feed_item_type=article\" rel=\"nofollow\" target=\"_blank\">VUG: Mag 7 Now The Lag 7, Better Valuation, Weaker Chart</a>\n",
       "</div>\n",
       "<div class=\"news-link-right\">\n",
       "<span>(SeekingAlpha)</span></div></div></td></tr>\n",
       "<tr class=\"cursor-pointer has-label\" onclick=\"trackAndOpenNews(event, 'Motley Fool', 'https://www.fool.com/investing/2025/03/22/prediction-nvidia-stock-will-be-over-200-by-the-en/?source=finviz\\u0026utm_source=finviz-host-full\\u0026utm_medium=feed\\u0026utm_campaign=article\\u0026referring_guid=2dcd50c4-81bf-4a16-a5c9-a945352c9ea2');\">\n",
       "<td align=\"right\" width=\"130\">\n",
       "            07:15AM\n",
       "        </td>\n",
       "<td align=\"left\">\n",
       "<div class=\"news-link-container\">\n",
       "<div class=\"news-link-left\">\n",
       "<a class=\"tab-link-news\" href=\"https://www.fool.com/investing/2025/03/22/prediction-nvidia-stock-will-be-over-200-by-the-en/?source=finviz&amp;utm_source=finviz-host-full&amp;utm_medium=feed&amp;utm_campaign=article&amp;referring_guid=2dcd50c4-81bf-4a16-a5c9-a945352c9ea2\" rel=\"nofollow\" target=\"_blank\">Prediction: Nvidia Stock Will Be Over $200 by the End of 2026</a>\n",
       "</div>\n",
       "<div class=\"news-link-right\">\n",
       "<span>(Motley Fool)</span></div></div></td></tr>\n",
       "<tr class=\"cursor-pointer has-label\" onclick=\"trackAndOpenNews(event, 'MarketBeat', 'https://www.marketbeat.com/originals/marketbeat-week-in-review-03-17-03-21/?utm_source=finviz\\u0026amp;utm_medium=finviz');\">\n",
       "<td align=\"right\" width=\"130\">\n",
       "            07:00AM\n",
       "        </td>\n",
       "<td align=\"left\">\n",
       "<div class=\"news-link-container\">\n",
       "<div class=\"news-link-left\">\n",
       "<a class=\"tab-link-news\" href=\"https://www.marketbeat.com/originals/marketbeat-week-in-review-03-17-03-21/?utm_source=finviz&amp;amp;utm_medium=finviz\" rel=\"nofollow\" target=\"_blank\">MarketBeat Week in Review - 03/17 - 03/21</a>\n",
       "</div>\n",
       "<div class=\"news-link-right\">\n",
       "<span>(MarketBeat)</span></div></div></td></tr>\n",
       "<tr class=\"cursor-pointer has-label\" onclick=\"trackAndOpenNews(event, 'SeekingAlpha', 'https://seekingalpha.com/article/4769663-march-semiconductor-industry-news-updates-ai-thrills-geopolitical-spills?utm_source=finviz.com\\u0026utm_medium=referral\\u0026feed_item_type=article');\">\n",
       "<td align=\"right\" width=\"130\">\n",
       "            04:40AM\n",
       "        </td>\n",
       "<td align=\"left\">\n",
       "<div class=\"news-link-container\">\n",
       "<div class=\"news-link-left\">\n",
       "<a class=\"tab-link-news\" href=\"https://seekingalpha.com/article/4769663-march-semiconductor-industry-news-updates-ai-thrills-geopolitical-spills?utm_source=finviz.com&amp;utm_medium=referral&amp;feed_item_type=article\" rel=\"nofollow\" target=\"_blank\">March Semiconductor Industry News And Updates: AI Thrills And Geopolitical Spills</a>\n",
       "</div>\n",
       "<div class=\"news-link-right\">\n",
       "<span>(SeekingAlpha)</span></div></div></td></tr>\n",
       "<tr class=\"cursor-pointer has-label\" onclick=\"trackAndOpenNews(event, 'Motley Fool', 'https://www.fool.com/investing/2025/03/22/meet-vanguard-etf-432-portfolio-in-nvidia-amazon/?source=finviz\\u0026utm_source=finviz-host-full\\u0026utm_medium=feed\\u0026utm_campaign=article\\u0026referring_guid=9353735f-8932-4fb2-81ff-8910d7a4feaf');\">\n",
       "<td align=\"right\" width=\"130\">\n",
       "            04:26AM\n",
       "        </td>\n",
       "<td align=\"left\">\n",
       "<div class=\"news-link-container\">\n",
       "<div class=\"news-link-left\">\n",
       "<a class=\"tab-link-news\" href=\"https://www.fool.com/investing/2025/03/22/meet-vanguard-etf-432-portfolio-in-nvidia-amazon/?source=finviz&amp;utm_source=finviz-host-full&amp;utm_medium=feed&amp;utm_campaign=article&amp;referring_guid=9353735f-8932-4fb2-81ff-8910d7a4feaf\" rel=\"nofollow\" target=\"_blank\">Meet the Spectacular Vanguard ETF With 43.2% of Its Portfolio Invested in Nvidia, Amazon, Apple, and Microsoft</a>\n",
       "</div>\n",
       "<div class=\"news-link-right\">\n",
       "<span>(Motley Fool)</span></div></div></td></tr>\n",
       "<tr class=\"cursor-pointer has-label\" onclick=\"trackAndOpenNews(event, 'Motley Fool', 'https://www.fool.com/investing/2025/03/22/who-is-nvidias-biggest-rival-huangs-clue/?source=finviz\\u0026utm_source=finviz-host-full\\u0026utm_medium=feed\\u0026utm_campaign=article\\u0026referring_guid=21068ebd-7387-4584-894c-506cd7a9d637');\">\n",
       "<td align=\"right\" width=\"130\">\n",
       "            04:10AM\n",
       "        </td>\n",
       "<td align=\"left\">\n",
       "<div class=\"news-link-container\">\n",
       "<div class=\"news-link-left\">\n",
       "<a class=\"tab-link-news\" href=\"https://www.fool.com/investing/2025/03/22/who-is-nvidias-biggest-rival-huangs-clue/?source=finviz&amp;utm_source=finviz-host-full&amp;utm_medium=feed&amp;utm_campaign=article&amp;referring_guid=21068ebd-7387-4584-894c-506cd7a9d637\" rel=\"nofollow\" target=\"_blank\">Who Is Nvidia's Biggest Rival? Jensen Huang Offered a Clue, and You May be Surprised by the Answer.</a>\n",
       "</div>\n",
       "<div class=\"news-link-right\">\n",
       "<span>(Motley Fool)</span></div></div></td></tr>\n",
       "<tr class=\"cursor-pointer has-label\" onclick=\"trackAndOpenNews(event, 'SeekingAlpha', 'https://seekingalpha.com/article/4769636-big-tech-market-reset-pullback-different?utm_source=finviz.com\\u0026utm_medium=referral\\u0026feed_item_type=article');\">\n",
       "<td align=\"right\" width=\"130\">\n",
       "            12:35AM\n",
       "        </td>\n",
       "<td align=\"left\">\n",
       "<div class=\"news-link-container\">\n",
       "<div class=\"news-link-left\">\n",
       "<a class=\"tab-link-news\" href=\"https://seekingalpha.com/article/4769636-big-tech-market-reset-pullback-different?utm_source=finviz.com&amp;utm_medium=referral&amp;feed_item_type=article\" rel=\"nofollow\" target=\"_blank\">Big Tech's Market Reset: Why This Pullback Is Different</a>\n",
       "</div>\n",
       "<div class=\"news-link-right\">\n",
       "<span>(SeekingAlpha)</span></div></div></td></tr>\n",
       "<tr class=\"cursor-pointer has-label\" onclick=\"trackAndOpenNews(event, 'Benzinga', 'https://finance.yahoo.com/news/nvidia-ceo-jensen-huang-ciscos-033114771.html');\">\n",
       "<td align=\"right\" width=\"130\">\n",
       "            Mar-21-25 11:31PM\n",
       "        </td>\n",
       "<td align=\"left\">\n",
       "<div class=\"news-link-container\">\n",
       "<div class=\"news-link-left\">\n",
       "<a class=\"tab-link-news\" href=\"https://finance.yahoo.com/news/nvidia-ceo-jensen-huang-ciscos-033114771.html\" rel=\"nofollow\" target=\"_blank\">Nvidia CEO Jensen Huang, Cisco's Chuck Robbins Tout AI's Global Impact: Trump 'Want Us To Win'</a>\n",
       "</div>\n",
       "<div class=\"news-link-right\">\n",
       "<span>(Benzinga)</span></div></div></td></tr>\n",
       "<tr class=\"cursor-pointer has-label\" onclick=\"trackAndOpenNews(event, 'DigiTimes', 'https://www.digitimes.com/news/a20250321PD222/asus-nvidia-gtc-ai-server-gpu-2025.html');\">\n",
       "<td align=\"right\" width=\"130\">\n",
       "            08:37PM\n",
       "        </td>\n",
       "<td align=\"left\">\n",
       "<div class=\"news-link-container\">\n",
       "<div class=\"news-link-left\">\n",
       "<a class=\"tab-link-news\" href=\"https://www.digitimes.com/news/a20250321PD222/asus-nvidia-gtc-ai-server-gpu-2025.html\" rel=\"nofollow\" target=\"_blank\">GTC 2025: Asus secures major order for GB300 NVL72</a>\n",
       "</div>\n",
       "<div class=\"news-link-right\">\n",
       "<span>(DigiTimes)</span></div></div></td></tr>\n",
       "<tr class=\"cursor-pointer has-label\" onclick=\"trackAndOpenNews(event, 'DigiTimes', 'https://www.digitimes.com/news/a20250321VL211/colley-hwang-nvidia-taiwan-intel-microsoft-tsmc.html');\">\n",
       "<td align=\"right\" width=\"130\">\n",
       "            08:34PM\n",
       "        </td>\n",
       "<td align=\"left\">\n",
       "<div class=\"news-link-container\">\n",
       "<div class=\"news-link-left\">\n",
       "<a class=\"tab-link-news\" href=\"https://www.digitimes.com/news/a20250321VL211/colley-hwang-nvidia-taiwan-intel-microsoft-tsmc.html\" rel=\"nofollow\" target=\"_blank\">Semi Country excerpt 2: The unique 'Taiwan' advantage of Nvidia</a>\n",
       "</div>\n",
       "<div class=\"news-link-right\">\n",
       "<span>(DigiTimes)</span></div></div></td></tr>\n",
       "<tr class=\"cursor-pointer has-label\" onclick=\"trackAndOpenNews(event, 'DigiTimes', 'https://www.digitimes.com/news/a20250321PD221/nvidia-gtc-samsung-hbm-2025.html');\">\n",
       "<td align=\"right\" width=\"130\">\n",
       "            08:33PM\n",
       "        </td>\n",
       "<td align=\"left\">\n",
       "<div class=\"news-link-container\">\n",
       "<div class=\"news-link-left\">\n",
       "<a class=\"tab-link-news\" href=\"https://www.digitimes.com/news/a20250321PD221/nvidia-gtc-samsung-hbm-2025.html\" rel=\"nofollow\" target=\"_blank\">Jensen Huang's Samsung visit at GTC 2025 reignites spotlight on memory supply ties</a>\n",
       "</div>\n",
       "<div class=\"news-link-right\">\n",
       "<span>(DigiTimes)</span></div></div></td></tr>\n",
       "<tr class=\"cursor-pointer has-label\" onclick=\"trackAndOpenNews(event, 'Benzinga', 'https://finance.yahoo.com/news/nvidia-stock-slide-signals-time-003014524.html');\">\n",
       "<td align=\"right\" width=\"130\">\n",
       "            08:30PM\n",
       "        </td>\n",
       "<td align=\"left\">\n",
       "<div class=\"news-link-container\">\n",
       "<div class=\"news-link-left\">\n",
       "<a class=\"tab-link-news\" href=\"https://finance.yahoo.com/news/nvidia-stock-slide-signals-time-003014524.html\" rel=\"nofollow\" target=\"_blank\">Nvidia Stock Slide Signals Time to Reposition, Says Wealth Manager Michael Landsberg: 'I Wouldn't Buy Tech Here On The Dip'</a>\n",
       "</div>\n",
       "<div class=\"news-link-right\">\n",
       "<span>(Benzinga)</span></div></div></td></tr>\n",
       "<tr class=\"cursor-pointer has-label\" onclick=\"trackAndOpenNews(event, 'SeekingAlpha', 'https://seekingalpha.com/article/4769606-serve-is-a-sell-uber-and-nvidia-are-smarter-picks?utm_source=finviz.com\\u0026utm_medium=referral\\u0026feed_item_type=article');\">\n",
       "<td align=\"right\" width=\"130\">\n",
       "            07:04PM\n",
       "        </td>\n",
       "<td align=\"left\">\n",
       "<div class=\"news-link-container\">\n",
       "<div class=\"news-link-left\">\n",
       "<a class=\"tab-link-news\" href=\"https://seekingalpha.com/article/4769606-serve-is-a-sell-uber-and-nvidia-are-smarter-picks?utm_source=finviz.com&amp;utm_medium=referral&amp;feed_item_type=article\" rel=\"nofollow\" target=\"_blank\">Serve Robotics Is A Sell; Uber And Nvidia Are Smarter Picks</a>\n",
       "</div>\n",
       "<div class=\"news-link-right\">\n",
       "<span>(SeekingAlpha)</span></div></div></td></tr>\n",
       "<tr class=\"cursor-pointer has-label\" onclick=\"trackAndOpenNews(event, 'SeekingAlpha', 'https://seekingalpha.com/article/4769605-micron-q2-ai-agents-accelerating-growth?utm_source=finviz.com\\u0026utm_medium=referral\\u0026feed_item_type=article');\">\n",
       "<td align=\"right\" width=\"130\">\n",
       "            06:53PM\n",
       "        </td>\n",
       "<td align=\"left\">\n",
       "<div class=\"news-link-container\">\n",
       "<div class=\"news-link-left\">\n",
       "<a class=\"tab-link-news\" href=\"https://seekingalpha.com/article/4769605-micron-q2-ai-agents-accelerating-growth?utm_source=finviz.com&amp;utm_medium=referral&amp;feed_item_type=article\" rel=\"nofollow\" target=\"_blank\">Micron Q2: AI Agents Accelerating Growth</a>\n",
       "</div>\n",
       "<div class=\"news-link-right\">\n",
       "<span>(SeekingAlpha)</span></div></div></td></tr>\n",
       "<tr class=\"cursor-pointer has-label\" onclick=\"trackAndOpenNews(event, 'CNBC TV', 'https://www.youtube.com/watch?v=npDKMTOUDZU');\">\n",
       "<td align=\"right\" width=\"130\">\n",
       "            06:10PM\n",
       "        </td>\n",
       "<td align=\"left\">\n",
       "<div class=\"news-link-container\">\n",
       "<div class=\"news-link-left\">\n",
       "<a class=\"tab-link-news\" href=\"https://www.youtube.com/watch?v=npDKMTOUDZU\" rel=\"nofollow\" target=\"_blank\">AI compute demand still increasing, says Creative Strategies CEO on why he's still bullish on Nvidia</a>\n",
       "</div>\n",
       "<div class=\"news-link-right\">\n",
       "<span>(CNBC TV)</span></div></div></td></tr>\n",
       "<tr class=\"cursor-pointer has-label\" onclick=\"trackAndOpenNews(event, 'Motley Fool', 'https://www.fool.com/investing/2025/03/21/where-will-nvidia-stock-be-in-1-year/?source=finviz\\u0026utm_source=finviz-host-full\\u0026utm_medium=feed\\u0026utm_campaign=article\\u0026referring_guid=26529fdd-4763-4e4a-9d91-6bccbf3af2f4');\">\n",
       "<td align=\"right\" width=\"130\">\n",
       "            05:07PM\n",
       "        </td>\n",
       "<td align=\"left\">\n",
       "<div class=\"news-link-container\">\n",
       "<div class=\"news-link-left\">\n",
       "<a class=\"tab-link-news\" href=\"https://www.fool.com/investing/2025/03/21/where-will-nvidia-stock-be-in-1-year/?source=finviz&amp;utm_source=finviz-host-full&amp;utm_medium=feed&amp;utm_campaign=article&amp;referring_guid=26529fdd-4763-4e4a-9d91-6bccbf3af2f4\" rel=\"nofollow\" target=\"_blank\">Where Will Nvidia Stock Be in 1 Year?</a>\n",
       "</div>\n",
       "<div class=\"news-link-right\">\n",
       "<span>(Motley Fool)</span></div></div></td></tr>\n",
       "<tr class=\"cursor-pointer has-label\" onclick=\"trackAndOpenNews(event, 'The Wall Street Journal', 'https://finance.yahoo.com/m/38d53adc-181a-3254-8efa-f424cd8fd5f3/the-score%3A-nvidia%2C-tesla%2C.html');\">\n",
       "<td align=\"right\" width=\"130\">\n",
       "            05:05PM\n",
       "        </td>\n",
       "<td align=\"left\">\n",
       "<div class=\"news-link-container\">\n",
       "<div class=\"news-link-left\">\n",
       "<a class=\"tab-link-news\" href=\"https://finance.yahoo.com/m/38d53adc-181a-3254-8efa-f424cd8fd5f3/the-score%3A-nvidia%2C-tesla%2C.html\" rel=\"nofollow\" target=\"_blank\">The Score: Nvidia, Tesla, Nike and More Stocks That Defined the Week</a>\n",
       "</div>\n",
       "<div class=\"news-link-right\">\n",
       "<span>(The Wall Street Journal)</span></div></div></td></tr>\n",
       "<tr class=\"cursor-pointer has-label\" onclick=\"trackAndOpenNews(event, 'CNBC TV', 'https://www.youtube.com/watch?v=UPKAhq7hafQ');\">\n",
       "<td align=\"right\" width=\"130\">\n",
       "            05:05PM\n",
       "        </td>\n",
       "<td align=\"left\">\n",
       "<div class=\"news-link-container\">\n",
       "<div class=\"news-link-left\">\n",
       "<a class=\"tab-link-news\" href=\"https://www.youtube.com/watch?v=UPKAhq7hafQ\" rel=\"nofollow\" target=\"_blank\">Nvidia focusing on quantum is very bullish for the space, says EMJ Capital's Eric Jackson</a>\n",
       "</div>\n",
       "<div class=\"news-link-right\">\n",
       "<span>(CNBC TV)</span></div></div></td></tr>\n",
       "<tr class=\"cursor-pointer has-label\" onclick=\"trackAndOpenNews(event, 'Investopedia', 'https://www.investopedia.com/s-and-p-500-gains-and-losses-today-supermicro-soars-on-expectations-of-ai-driven-growth-11701487');\">\n",
       "<td align=\"right\" width=\"130\">\n",
       "            04:58PM\n",
       "        </td>\n",
       "<td align=\"left\">\n",
       "<div class=\"news-link-container\">\n",
       "<div class=\"news-link-left\">\n",
       "<a class=\"tab-link-news\" href=\"https://www.investopedia.com/s-and-p-500-gains-and-losses-today-supermicro-soars-on-expectations-of-ai-driven-growth-11701487\" rel=\"nofollow\" target=\"_blank\">S&amp;P 500 Gains and Losses Today: Supermicro Soars on Expectations of AI-Driven Growth</a>\n",
       "</div>\n",
       "<div class=\"news-link-right\">\n",
       "<span>(Investopedia)</span></div></div></td></tr>\n",
       "<tr class=\"cursor-pointer has-label\" onclick=\"trackAndOpenNews(event, 'Barrons.com', 'https://finance.yahoo.com/m/1d03ac0b-d630-3587-8bb8-9ba580b08f1a/nvidia-stock-was-supposed-to.html');\">\n",
       "<td align=\"right\" width=\"130\">\n",
       "            04:47PM\n",
       "        </td>\n",
       "<td align=\"left\">\n",
       "<div class=\"news-link-container\">\n",
       "<div class=\"news-link-left\">\n",
       "<a class=\"tab-link-news\" href=\"https://finance.yahoo.com/m/1d03ac0b-d630-3587-8bb8-9ba580b08f1a/nvidia-stock-was-supposed-to.html\" rel=\"nofollow\" target=\"_blank\">Nvidia Stock Was Supposed to Get a Lift From GTC This Week. It Dropped Instead.</a>\n",
       "</div>\n",
       "<div class=\"news-link-right\">\n",
       "<span>(Barrons.com)</span></div></div></td></tr>\n",
       "<tr class=\"cursor-pointer has-label\" onclick=\"trackAndOpenNews(event, 'InsiderMonkey', 'https://www.insidermonkey.com/blog/nvidia-nvda-gains-bullish-momentum-ahead-of-global-ai-conference-1488736');\">\n",
       "<td align=\"right\" width=\"130\">\n",
       "            04:37PM\n",
       "        </td>\n",
       "<td align=\"left\">\n",
       "<div class=\"news-link-container\">\n",
       "<div class=\"news-link-left\">\n",
       "<a class=\"tab-link-news\" href=\"https://www.insidermonkey.com/blog/nvidia-nvda-gains-bullish-momentum-ahead-of-global-ai-conference-1488736\" rel=\"nofollow\" target=\"_blank\">NVIDIA (NVDA) Gains Bullish Momentum Ahead of Global AI Conference</a>\n",
       "</div>\n",
       "<div class=\"news-link-right\">\n",
       "<span>(InsiderMonkey)</span></div></div></td></tr>\n",
       "<tr class=\"cursor-pointer has-label\" onclick=\"trackAndOpenNews(event, 'Yahoo Finance Video', 'https://finance.yahoo.com/video/super-micro-jumps-jpmorgan-upgrade-201332682.html');\">\n",
       "<td align=\"right\" width=\"130\">\n",
       "            04:13PM\n",
       "        </td>\n",
       "<td align=\"left\">\n",
       "<div class=\"news-link-container\">\n",
       "<div class=\"news-link-left\">\n",
       "<a class=\"tab-link-news\" href=\"https://finance.yahoo.com/video/super-micro-jumps-jpmorgan-upgrade-201332682.html\" rel=\"nofollow\" target=\"_blank\">Super Micro jumps after JPMorgan upgrade, lifts price target</a>\n",
       "</div>\n",
       "<div class=\"news-link-right\">\n",
       "<span>(Yahoo Finance Video)</span></div></div></td></tr>\n",
       "<tr class=\"cursor-pointer has-label\" onclick=\"trackAndOpenNews(event, 'Investor\\u0027s Business Daily', 'https://finance.yahoo.com/m/b504409b-b3b1-322c-a261-26925f033a7f/nvidia-stock-fails-to-score.html');\">\n",
       "<td align=\"right\" width=\"130\">\n",
       "            04:07PM\n",
       "        </td>\n",
       "<td align=\"left\">\n",
       "<div class=\"news-link-container\">\n",
       "<div class=\"news-link-left\">\n",
       "<a class=\"tab-link-news\" href=\"https://finance.yahoo.com/m/b504409b-b3b1-322c-a261-26925f033a7f/nvidia-stock-fails-to-score.html\" rel=\"nofollow\" target=\"_blank\">Nvidia Stock Fails To Score At 'Super Bowl Of AI'</a>\n",
       "</div>\n",
       "<div class=\"news-link-right\">\n",
       "<span>(Investor's Business Daily)</span></div></div></td></tr>\n",
       "<tr class=\"cursor-pointer has-label\" onclick=\"trackAndOpenNews(event, 'SeekingAlpha', 'https://seekingalpha.com/article/4769561-nvidia-whats-powering-the-next-ai-era?utm_source=finviz.com\\u0026utm_medium=referral\\u0026feed_item_type=article');\">\n",
       "<td align=\"right\" width=\"130\">\n",
       "            03:25PM\n",
       "        </td>\n",
       "<td align=\"left\">\n",
       "<div class=\"news-link-container\">\n",
       "<div class=\"news-link-left\">\n",
       "<a class=\"tab-link-news\" href=\"https://seekingalpha.com/article/4769561-nvidia-whats-powering-the-next-ai-era?utm_source=finviz.com&amp;utm_medium=referral&amp;feed_item_type=article\" rel=\"nofollow\" target=\"_blank\">Nvidia: What's Powering The Next  AI Era</a>\n",
       "</div>\n",
       "<div class=\"news-link-right\">\n",
       "<span>(SeekingAlpha)</span></div></div></td></tr>\n",
       "<tr class=\"cursor-pointer has-label\" onclick=\"trackAndOpenNews(event, 'LA Times', 'https://finance.yahoo.com/news/ai-could-next-drive-order-190927957.html');\">\n",
       "<td align=\"right\" width=\"130\">\n",
       "            03:09PM\n",
       "        </td>\n",
       "<td align=\"left\">\n",
       "<div class=\"news-link-container\">\n",
       "<div class=\"news-link-left\">\n",
       "<a class=\"tab-link-news\" href=\"https://finance.yahoo.com/news/ai-could-next-drive-order-190927957.html\" rel=\"nofollow\" target=\"_blank\">AI could take your next drive-through order. Taco Bell parent Yum Brands and Nvidia's partnership explained</a>\n",
       "</div>\n",
       "<div class=\"news-link-right\">\n",
       "<span>(LA Times)</span></div></div></td></tr>\n",
       "<tr class=\"cursor-pointer has-label\" onclick=\"trackAndOpenNews(event, 'Benzinga', 'https://finance.yahoo.com/news/nvidia-sitting-ai-goldmine-no-190714046.html');\">\n",
       "<td align=\"right\" width=\"130\">\n",
       "            03:07PM\n",
       "        </td>\n",
       "<td align=\"left\">\n",
       "<div class=\"news-link-container\">\n",
       "<div class=\"news-link-left\">\n",
       "<a class=\"tab-link-news\" href=\"https://finance.yahoo.com/news/nvidia-sitting-ai-goldmine-no-190714046.html\" rel=\"nofollow\" target=\"_blank\">Is Nvidia Sitting On The AI Goldmine No One Sees Yet?</a>\n",
       "</div>\n",
       "<div class=\"news-link-right\">\n",
       "<span>(Benzinga)</span></div></div></td></tr>\n",
       "<tr class=\"cursor-pointer has-label\" onclick=\"trackAndOpenNews(event, 'GuruFocus.com', 'https://finance.yahoo.com/news/nvidia-teams-harvard-mit-quantum-190117906.html');\">\n",
       "<td align=\"right\" width=\"130\">\n",
       "            03:01PM\n",
       "        </td>\n",
       "<td align=\"left\">\n",
       "<div class=\"news-link-container\">\n",
       "<div class=\"news-link-left\">\n",
       "<a class=\"tab-link-news\" href=\"https://finance.yahoo.com/news/nvidia-teams-harvard-mit-quantum-190117906.html\" rel=\"nofollow\" target=\"_blank\">Nvidia Teams Up With Harvard, MIT on Quantum Research Center</a>\n",
       "</div>\n",
       "<div class=\"news-link-right\">\n",
       "<span>(GuruFocus.com)</span></div></div></td></tr>\n",
       "<tr class=\"cursor-pointer has-label\" onclick=\"trackAndOpenNews(event, 'GuruFocus.com', 'https://finance.yahoo.com/news/nvidia-downplays-tariff-impact-eyes-184201931.html');\">\n",
       "<td align=\"right\" width=\"130\">\n",
       "            02:42PM\n",
       "        </td>\n",
       "<td align=\"left\">\n",
       "<div class=\"news-link-container\">\n",
       "<div class=\"news-link-left\">\n",
       "<a class=\"tab-link-news\" href=\"https://finance.yahoo.com/news/nvidia-downplays-tariff-impact-eyes-184201931.html\" rel=\"nofollow\" target=\"_blank\">Nvidia Downplays Tariff Impact, Eyes U.S. Production Boost</a>\n",
       "</div>\n",
       "<div class=\"news-link-right\">\n",
       "<span>(GuruFocus.com)</span></div></div></td></tr>\n",
       "<tr class=\"cursor-pointer has-label\" onclick=\"trackAndOpenNews(event, 'Barrons.com', 'https://finance.yahoo.com/m/fe7feee1-eaa0-3eb2-98c3-e3d6fd5bfbb4/d-wave-stock-slips.-why.html');\">\n",
       "<td align=\"right\" width=\"130\">\n",
       "            02:36PM\n",
       "        </td>\n",
       "<td align=\"left\">\n",
       "<div class=\"news-link-container\">\n",
       "<div class=\"news-link-left\">\n",
       "<a class=\"tab-link-news\" href=\"https://finance.yahoo.com/m/fe7feee1-eaa0-3eb2-98c3-e3d6fd5bfbb4/d-wave-stock-slips.-why.html\" rel=\"nofollow\" target=\"_blank\">D-Wave Stock Slips. Why Nvidias Quantum Computing Event Hurt the Shares.</a>\n",
       "</div>\n",
       "<div class=\"news-link-right\">\n",
       "<span>(Barrons.com)</span></div></div></td></tr>\n",
       "<tr class=\"cursor-pointer has-label\" onclick=\"trackAndOpenNews(event, 'Fortune', 'https://finance.yahoo.com/news/quantum-computing-stocks-fall-again-181617795.html');\">\n",
       "<td align=\"right\" width=\"130\">\n",
       "            02:16PM\n",
       "        </td>\n",
       "<td align=\"left\">\n",
       "<div class=\"news-link-container\">\n",
       "<div class=\"news-link-left\">\n",
       "<a class=\"tab-link-news\" href=\"https://finance.yahoo.com/news/quantum-computing-stocks-fall-again-181617795.html\" rel=\"nofollow\" target=\"_blank\">Quantum-computing stocks fall again as Jensen Huang and other CEOs temper expectations around the bleeding-edge tech: Not good enough yet for practical use</a>\n",
       "</div>\n",
       "<div class=\"news-link-right\">\n",
       "<span>(Fortune)</span></div></div></td></tr>\n",
       "<tr class=\"cursor-pointer has-label\" onclick=\"trackAndOpenNews(event, 'Investor\\u0027s Business Daily', 'https://finance.yahoo.com/m/029dfcc8-232c-3bbf-aeb2-6f875c391565/palantir-hovers-near-50-day.html');\">\n",
       "<td align=\"right\" width=\"130\">\n",
       "            02:00PM\n",
       "        </td>\n",
       "<td align=\"left\">\n",
       "<div class=\"news-link-container\">\n",
       "<div class=\"news-link-left\">\n",
       "<a class=\"tab-link-news\" href=\"https://finance.yahoo.com/m/029dfcc8-232c-3bbf-aeb2-6f875c391565/palantir-hovers-near-50-day.html\" rel=\"nofollow\" target=\"_blank\">Palantir Hovers Near 50 Day Line As AI Stocks Struggle</a>\n",
       "</div>\n",
       "<div class=\"news-link-right\">\n",
       "<span>(Investor's Business Daily)</span></div></div></td></tr>\n",
       "<tr class=\"cursor-pointer has-label\" onclick=\"trackAndOpenNews(event, 'SeekingAlpha', 'https://seekingalpha.com/article/4769549-summer-cuts-coming-sticky-inflation-will-keep-gold-in-spotlight?utm_source=finviz.com\\u0026utm_medium=referral\\u0026feed_item_type=article');\">\n",
       "<td align=\"right\" width=\"130\">\n",
       "            01:55PM\n",
       "        </td>\n",
       "<td align=\"left\">\n",
       "<div class=\"news-link-container\">\n",
       "<div class=\"news-link-left\">\n",
       "<a class=\"tab-link-news\" href=\"https://seekingalpha.com/article/4769549-summer-cuts-coming-sticky-inflation-will-keep-gold-in-spotlight?utm_source=finviz.com&amp;utm_medium=referral&amp;feed_item_type=article\" rel=\"nofollow\" target=\"_blank\">Summer Cuts Coming? Sticky Inflation Will Keep Gold In Spotlight</a>\n",
       "</div>\n",
       "<div class=\"news-link-right\">\n",
       "<span>(SeekingAlpha)</span></div></div></td></tr>\n",
       "<tr class=\"cursor-pointer has-label\" onclick=\"trackAndOpenNews(event, 'SeekingAlpha', 'https://seekingalpha.com/article/4769533-asml-on-the-verge-of-exploding?utm_source=finviz.com\\u0026utm_medium=referral\\u0026feed_item_type=article');\">\n",
       "<td align=\"right\" width=\"130\">\n",
       "            01:40PM\n",
       "        </td>\n",
       "<td align=\"left\">\n",
       "<div class=\"news-link-container\">\n",
       "<div class=\"news-link-left\">\n",
       "<a class=\"tab-link-news\" href=\"https://seekingalpha.com/article/4769533-asml-on-the-verge-of-exploding?utm_source=finviz.com&amp;utm_medium=referral&amp;feed_item_type=article\" rel=\"nofollow\" target=\"_blank\">ASML: On The Verge Of Exploding</a>\n",
       "</div>\n",
       "<div class=\"news-link-right\">\n",
       "<span>(SeekingAlpha)</span></div></div></td></tr>\n",
       "<tr class=\"cursor-pointer has-label\" onclick=\"trackAndOpenNews(event, 'Investopedia', 'https://www.investopedia.com/supermicro-stock-jumps-to-lead-s-and-p-500-gains-friday-as-jpmorgan-boosts-rating-11701217');\">\n",
       "<td align=\"right\" width=\"130\">\n",
       "            01:06PM\n",
       "        </td>\n",
       "<td align=\"left\">\n",
       "<div class=\"news-link-container\">\n",
       "<div class=\"news-link-left\">\n",
       "<a class=\"tab-link-news\" href=\"https://www.investopedia.com/supermicro-stock-jumps-to-lead-s-and-p-500-gains-friday-as-jpmorgan-boosts-rating-11701217\" rel=\"nofollow\" target=\"_blank\">Supermicro Stock Jumps to Lead S&amp;P 500 Gainers Friday as JPMorgan Boosts Rating</a>\n",
       "</div>\n",
       "<div class=\"news-link-right\">\n",
       "<span>(Investopedia)</span></div></div></td></tr>\n",
       "<tr class=\"cursor-pointer has-label\" onclick=\"trackAndOpenNews(event, 'SeekingAlpha', 'https://seekingalpha.com/article/4769514-nvdy-usually-not-a-fan-but-the-huge-distribution-yield-is-currently-tempting?utm_source=finviz.com\\u0026utm_medium=referral\\u0026feed_item_type=article');\">\n",
       "<td align=\"right\" width=\"130\">\n",
       "            12:50PM\n",
       "        </td>\n",
       "<td align=\"left\">\n",
       "<div class=\"news-link-container\">\n",
       "<div class=\"news-link-left\">\n",
       "<a class=\"tab-link-news\" href=\"https://seekingalpha.com/article/4769514-nvdy-usually-not-a-fan-but-the-huge-distribution-yield-is-currently-tempting?utm_source=finviz.com&amp;utm_medium=referral&amp;feed_item_type=article\" rel=\"nofollow\" target=\"_blank\">NVDY: Usually Not A Fan, But The Huge Distribution Yield Is Currently Tempting</a>\n",
       "</div>\n",
       "<div class=\"news-link-right\">\n",
       "<span>(SeekingAlpha)</span></div></div></td></tr>\n",
       "<tr class=\"cursor-pointer has-label\" onclick=\"trackAndOpenNews(event, 'Zacks', 'https://www.zacks.com/stock/news/2433609/should-you-buy-sell-or-hold-astera-labs-stock-at-p-s-of-15-59x?cid=CS-FINVIZ-FT-analyst_blog|most_popular_stocks-2433609');\">\n",
       "<td align=\"right\" width=\"130\">\n",
       "            12:48PM\n",
       "        </td>\n",
       "<td align=\"left\">\n",
       "<div class=\"news-link-container\">\n",
       "<div class=\"news-link-left\">\n",
       "<a class=\"tab-link-news\" href=\"https://www.zacks.com/stock/news/2433609/should-you-buy-sell-or-hold-astera-labs-stock-at-p-s-of-15-59x?cid=CS-FINVIZ-FT-analyst_blog|most_popular_stocks-2433609\" rel=\"nofollow\" target=\"_blank\">Should You Buy, Sell or Hold Astera Labs Stock at P/S of 15.59X?</a>\n",
       "</div>\n",
       "<div class=\"news-link-right\">\n",
       "<span>(Zacks)</span></div></div></td></tr>\n",
       "<tr class=\"cursor-pointer has-label\" onclick=\"trackAndOpenNews(event, 'Zacks', 'https://www.zacks.com/stock/news/2433598/is-asml-stock-still-worth-holding-despite-plunging-25-in-a-year?cid=CS-FINVIZ-FT-analyst_blog|most_popular_stocks-2433598');\">\n",
       "<td align=\"right\" width=\"130\">\n",
       "            12:43PM\n",
       "        </td>\n",
       "<td align=\"left\">\n",
       "<div class=\"news-link-container\">\n",
       "<div class=\"news-link-left\">\n",
       "<a class=\"tab-link-news\" href=\"https://www.zacks.com/stock/news/2433598/is-asml-stock-still-worth-holding-despite-plunging-25-in-a-year?cid=CS-FINVIZ-FT-analyst_blog|most_popular_stocks-2433598\" rel=\"nofollow\" target=\"_blank\">Is ASML Stock Still Worth Holding Despite Plunging 25% in a Year?</a>\n",
       "</div>\n",
       "<div class=\"news-link-right\">\n",
       "<span>(Zacks)</span></div></div></td></tr>\n",
       "<tr class=\"cursor-pointer has-label\" onclick=\"trackAndOpenNews(event, 'Barrons.com', 'https://finance.yahoo.com/m/e7a08b87-66e8-36e2-b8e8-612e350773d8/nvidia%E2%80%99s-disconnect%3A-an.html');\">\n",
       "<td align=\"right\" width=\"130\">\n",
       "            12:37PM\n",
       "        </td>\n",
       "<td align=\"left\">\n",
       "<div class=\"news-link-container\">\n",
       "<div class=\"news-link-left\">\n",
       "<a class=\"tab-link-news\" href=\"https://finance.yahoo.com/m/e7a08b87-66e8-36e2-b8e8-612e350773d8/nvidia%E2%80%99s-disconnect%3A-an.html\" rel=\"nofollow\" target=\"_blank\">Nvidias Disconnect: An Improving Business With a Cheaper Stock</a>\n",
       "</div>\n",
       "<div class=\"news-link-right\">\n",
       "<span>(Barrons.com)</span></div></div></td></tr>\n",
       "<tr class=\"cursor-pointer has-label\" onclick=\"trackAndOpenNews(event, 'Zacks', 'https://www.zacks.com/stock/news/2433587/nvda-s-magic-buyback-signals-confidence-time-to-buy-the-stock?cid=CS-FINVIZ-FT-analyst_blog|investment_ideas-2433587');\">\n",
       "<td align=\"right\" width=\"130\">\n",
       "            12:36PM\n",
       "        </td>\n",
       "<td align=\"left\">\n",
       "<div class=\"news-link-container\">\n",
       "<div class=\"news-link-left\">\n",
       "<a class=\"tab-link-news\" href=\"https://www.zacks.com/stock/news/2433587/nvda-s-magic-buyback-signals-confidence-time-to-buy-the-stock?cid=CS-FINVIZ-FT-analyst_blog|investment_ideas-2433587\" rel=\"nofollow\" target=\"_blank\">NVDA's Magic Buyback Signals Confidence - Time to Buy the Stock?</a>\n",
       "</div>\n",
       "<div class=\"news-link-right\">\n",
       "<span>(Zacks)</span></div></div></td></tr>\n",
       "<tr class=\"cursor-pointer has-label\" onclick=\"trackAndOpenNews(event, 'TipRanks', 'https://finance.yahoo.com/news/accenture-reports-q2-beat-apple-161626223.html');\">\n",
       "<td align=\"right\" width=\"130\">\n",
       "            12:16PM\n",
       "        </td>\n",
       "<td align=\"left\">\n",
       "<div class=\"news-link-container\">\n",
       "<div class=\"news-link-left\">\n",
       "<a class=\"tab-link-news\" href=\"https://finance.yahoo.com/news/accenture-reports-q2-beat-apple-161626223.html\" rel=\"nofollow\" target=\"_blank\">Accenture reports Q2 beat, Apple TV+ losing $1B annually: Morning Buzz</a>\n",
       "</div>\n",
       "<div class=\"news-link-right\">\n",
       "<span>(TipRanks)</span></div></div></td></tr>\n",
       "<tr class=\"cursor-pointer has-label\" onclick=\"trackAndOpenNews(event, 'SeekingAlpha', 'https://seekingalpha.com/article/4769520-the-davenport-core-leaders-fund-q4-2024-commentary?utm_source=finviz.com\\u0026utm_medium=referral\\u0026feed_item_type=article');\">\n",
       "<td align=\"right\" width=\"130\">\n",
       "            12:05PM\n",
       "        </td>\n",
       "<td align=\"left\">\n",
       "<div class=\"news-link-container\">\n",
       "<div class=\"news-link-left\">\n",
       "<a class=\"tab-link-news\" href=\"https://seekingalpha.com/article/4769520-the-davenport-core-leaders-fund-q4-2024-commentary?utm_source=finviz.com&amp;utm_medium=referral&amp;feed_item_type=article\" rel=\"nofollow\" target=\"_blank\">The Davenport Core Leaders Fund Q4 2024 Commentary</a>\n",
       "</div>\n",
       "<div class=\"news-link-right\">\n",
       "<span>(SeekingAlpha)</span></div></div></td></tr>\n",
       "<tr class=\"cursor-pointer has-label\" onclick=\"trackAndOpenNews(event, 'GuruFocus.com', 'https://finance.yahoo.com/news/nvidia-unveils-boston-quantum-lab-160456147.html');\">\n",
       "<td align=\"right\" width=\"130\">\n",
       "            12:04PM\n",
       "        </td>\n",
       "<td align=\"left\">\n",
       "<div class=\"news-link-container\">\n",
       "<div class=\"news-link-left\">\n",
       "<a class=\"tab-link-news\" href=\"https://finance.yahoo.com/news/nvidia-unveils-boston-quantum-lab-160456147.html\" rel=\"nofollow\" target=\"_blank\">Nvidia Unveils Boston Quantum Lab to Accelerate AI-Hybrid Computing</a>\n",
       "</div>\n",
       "<div class=\"news-link-right\">\n",
       "<span>(GuruFocus.com)</span></div></div></td></tr>\n",
       "<tr class=\"cursor-pointer has-label\" onclick=\"trackAndOpenNews(event, 'Zacks', 'https://www.zacks.com/stock/news/2433550/stereotaxis-jumps-15-on-nvidia-s-ai-driven-collaboration-is-it-a-buy-now?cid=CS-FINVIZ-FT-analyst_blog|most_popular_stocks-2433550');\">\n",
       "<td align=\"right\" width=\"130\">\n",
       "            12:02PM\n",
       "        </td>\n",
       "<td align=\"left\">\n",
       "<div class=\"news-link-container\">\n",
       "<div class=\"news-link-left\">\n",
       "<a class=\"tab-link-news\" href=\"https://www.zacks.com/stock/news/2433550/stereotaxis-jumps-15-on-nvidia-s-ai-driven-collaboration-is-it-a-buy-now?cid=CS-FINVIZ-FT-analyst_blog|most_popular_stocks-2433550\" rel=\"nofollow\" target=\"_blank\">Stereotaxis Jumps 15% on NVIDIA's AI-Driven Collaboration: Is It a Buy Now?</a>\n",
       "</div>\n",
       "<div class=\"news-link-right\">\n",
       "<span>(Zacks)</span></div></div></td></tr>\n",
       "<tr class=\"cursor-pointer has-label\" onclick=\"trackAndOpenNews(event, 'Investopedia', 'https://www.investopedia.com/top-stock-movers-now-fedex-nike-lennar-and-more-11701160');\">\n",
       "<td align=\"right\" width=\"130\">\n",
       "            11:50AM\n",
       "        </td>\n",
       "<td align=\"left\">\n",
       "<div class=\"news-link-container\">\n",
       "<div class=\"news-link-left\">\n",
       "<a class=\"tab-link-news\" href=\"https://www.investopedia.com/top-stock-movers-now-fedex-nike-lennar-and-more-11701160\" rel=\"nofollow\" target=\"_blank\">Top Stock Movers Now: FedEx, Nike, Lennar, and More</a>\n",
       "</div>\n",
       "<div class=\"news-link-right\">\n",
       "<span>(Investopedia)</span></div></div></td></tr>\n",
       "<tr class=\"cursor-pointer has-label\" onclick=\"trackAndOpenNews(event, 'Quartz', 'https://finance.yahoo.com/news/nvidia-ceo-jensen-huang-says-154500572.html');\">\n",
       "<td align=\"right\" width=\"130\">\n",
       "            11:45AM\n",
       "        </td>\n",
       "<td align=\"left\">\n",
       "<div class=\"news-link-container\">\n",
       "<div class=\"news-link-left\">\n",
       "<a class=\"tab-link-news\" href=\"https://finance.yahoo.com/news/nvidia-ceo-jensen-huang-says-154500572.html\" rel=\"nofollow\" target=\"_blank\">Nvidia CEO Jensen Huang says he was wrong about quantum computing. But he might be right</a>\n",
       "</div>\n",
       "<div class=\"news-link-right\">\n",
       "<span>(Quartz)</span></div></div></td></tr>\n",
       "<tr class=\"cursor-pointer has-label\" onclick=\"trackAndOpenNews(event, 'SeekingAlpha', 'https://seekingalpha.com/article/4769492-nvdy-surprise-this-etf-loses-when-nvidia-stock-does?utm_source=finviz.com\\u0026utm_medium=referral\\u0026feed_item_type=article');\">\n",
       "<td align=\"right\" width=\"130\">\n",
       "            11:40AM\n",
       "        </td>\n",
       "<td align=\"left\">\n",
       "<div class=\"news-link-container\">\n",
       "<div class=\"news-link-left\">\n",
       "<a class=\"tab-link-news\" href=\"https://seekingalpha.com/article/4769492-nvdy-surprise-this-etf-loses-when-nvidia-stock-does?utm_source=finviz.com&amp;utm_medium=referral&amp;feed_item_type=article\" rel=\"nofollow\" target=\"_blank\">NVDY: Surprise, This ETF Loses When Nvidia Stock Does</a>\n",
       "</div>\n",
       "<div class=\"news-link-right\">\n",
       "<span>(SeekingAlpha)</span></div></div></td></tr>\n",
       "<tr class=\"cursor-pointer has-label\" onclick=\"trackAndOpenNews(event, 'Barrons.com', 'https://finance.yahoo.com/m/8e0d5964-d46b-30e7-9c5a-c263117a068b/nvidia-is-going-big-on.html');\">\n",
       "<td align=\"right\" width=\"130\">\n",
       "            11:11AM\n",
       "        </td>\n",
       "<td align=\"left\">\n",
       "<div class=\"news-link-container\">\n",
       "<div class=\"news-link-left\">\n",
       "<a class=\"tab-link-news\" href=\"https://finance.yahoo.com/m/8e0d5964-d46b-30e7-9c5a-c263117a068b/nvidia-is-going-big-on.html\" rel=\"nofollow\" target=\"_blank\">Nvidia Is Going Big on Quantum Computing, and It Isnt Going It Alone</a>\n",
       "</div>\n",
       "<div class=\"news-link-right\">\n",
       "<span>(Barrons.com)</span></div></div></td></tr>\n",
       "<tr class=\"cursor-pointer has-label\" onclick=\"trackAndOpenNews(event, 'Zacks', 'https://www.zacks.com/commentary/2433163/nvidia-gtc-3-companies-teaming-up-with-nvda?cid=CS-FINVIZ-FT-investment_ideas-2433163');\">\n",
       "<td align=\"right\" width=\"130\">\n",
       "            11:10AM\n",
       "        </td>\n",
       "<td align=\"left\">\n",
       "<div class=\"news-link-container\">\n",
       "<div class=\"news-link-left\">\n",
       "<a class=\"tab-link-news\" href=\"https://www.zacks.com/commentary/2433163/nvidia-gtc-3-companies-teaming-up-with-nvda?cid=CS-FINVIZ-FT-investment_ideas-2433163\" rel=\"nofollow\" target=\"_blank\">NVIDIA GTC: 3 Companies Teaming Up with NVDA</a>\n",
       "</div>\n",
       "<div class=\"news-link-right\">\n",
       "<span>(Zacks)</span></div></div></td></tr>\n",
       "<tr class=\"cursor-pointer has-label\" onclick=\"trackAndOpenNews(event, 'SeekingAlpha', 'https://seekingalpha.com/article/4769478-palantir-aip-con-solidified-its-future-but-too-much-upside-is-priced-in?utm_source=finviz.com\\u0026utm_medium=referral\\u0026feed_item_type=article');\">\n",
       "<td align=\"right\" width=\"130\">\n",
       "            11:08AM\n",
       "        </td>\n",
       "<td align=\"left\">\n",
       "<div class=\"news-link-container\">\n",
       "<div class=\"news-link-left\">\n",
       "<a class=\"tab-link-news\" href=\"https://seekingalpha.com/article/4769478-palantir-aip-con-solidified-its-future-but-too-much-upside-is-priced-in?utm_source=finviz.com&amp;utm_medium=referral&amp;feed_item_type=article\" rel=\"nofollow\" target=\"_blank\">Palantir: AIP Con Solidified Its Future But Too Much Upside Is Priced In</a>\n",
       "</div>\n",
       "<div class=\"news-link-right\">\n",
       "<span>(SeekingAlpha)</span></div></div></td></tr>\n",
       "<tr class=\"cursor-pointer has-label\" onclick=\"trackAndOpenNews(event, 'Barrons.com', 'https://finance.yahoo.com/m/bbe8bc91-29d7-38d6-af05-f837a2485c3c/quantinuum-ceo-says-the.html');\">\n",
       "<td align=\"right\" width=\"130\">\n",
       "            11:06AM\n",
       "        </td>\n",
       "<td align=\"left\">\n",
       "<div class=\"news-link-container\">\n",
       "<div class=\"news-link-left\">\n",
       "<a class=\"tab-link-news\" href=\"https://finance.yahoo.com/m/bbe8bc91-29d7-38d6-af05-f837a2485c3c/quantinuum-ceo-says-the.html\" rel=\"nofollow\" target=\"_blank\">Quantinuum CEO Says the Future Includes Nvidia, and So Much More</a>\n",
       "</div>\n",
       "<div class=\"news-link-right\">\n",
       "<span>(Barrons.com)</span></div></div></td></tr>\n",
       "<tr class=\"cursor-pointer has-label\" onclick=\"trackAndOpenNews(event, 'Investor\\u0027s Business Daily', 'https://finance.yahoo.com/m/4205eaa9-f620-3a0b-a81a-0e82c7c9fd0b/magnificent-seven-stocks%3A.html');\">\n",
       "<td align=\"right\" width=\"130\">\n",
       "            11:00AM\n",
       "        </td>\n",
       "<td align=\"left\">\n",
       "<div class=\"news-link-container\">\n",
       "<div class=\"news-link-left\">\n",
       "<a class=\"tab-link-news\" href=\"https://finance.yahoo.com/m/4205eaa9-f620-3a0b-a81a-0e82c7c9fd0b/magnificent-seven-stocks%3A.html\" rel=\"nofollow\" target=\"_blank\">Magnificent Seven Stocks: Nvidia Slides, Tesla Rallies</a>\n",
       "</div>\n",
       "<div class=\"news-link-right\">\n",
       "<span>(Investor's Business Daily)</span></div></div></td></tr>\n",
       "<tr class=\"cursor-pointer has-label\" onclick=\"trackAndOpenNews(event, 'Yahoo Finance Video', 'https://finance.yahoo.com/video/nvidia-stock-approaching-death-cross-143700274.html');\">\n",
       "<td align=\"right\" width=\"130\">\n",
       "            10:37AM\n",
       "        </td>\n",
       "<td align=\"left\">\n",
       "<div class=\"news-link-container\">\n",
       "<div class=\"news-link-left\">\n",
       "<a class=\"tab-link-news\" href=\"https://finance.yahoo.com/video/nvidia-stock-approaching-death-cross-143700274.html\" rel=\"nofollow\" target=\"_blank\">Nvidia stock approaching a 'death cross': What that means</a>\n",
       "</div>\n",
       "<div class=\"news-link-right\">\n",
       "<span>(Yahoo Finance Video)</span></div></div></td></tr>\n",
       "<tr class=\"cursor-pointer has-label\" onclick=\"trackAndOpenNews(event, 'SeekingAlpha', 'https://seekingalpha.com/article/4769488-the-davenport-funds-2024-year-end-stock-market-update?utm_source=finviz.com\\u0026utm_medium=referral\\u0026feed_item_type=article');\">\n",
       "<td align=\"right\" width=\"130\">\n",
       "            10:35AM\n",
       "        </td>\n",
       "<td align=\"left\">\n",
       "<div class=\"news-link-container\">\n",
       "<div class=\"news-link-left\">\n",
       "<a class=\"tab-link-news\" href=\"https://seekingalpha.com/article/4769488-the-davenport-funds-2024-year-end-stock-market-update?utm_source=finviz.com&amp;utm_medium=referral&amp;feed_item_type=article\" rel=\"nofollow\" target=\"_blank\">The Davenport Funds 2024 Year-End Stock Market Update</a>\n",
       "</div>\n",
       "<div class=\"news-link-right\">\n",
       "<span>(SeekingAlpha)</span></div></div></td></tr>\n",
       "<tr class=\"cursor-pointer has-label\" onclick=\"trackAndOpenNews(event, 'Barrons.com', 'https://finance.yahoo.com/m/4fd2581b-c83d-3f15-873f-abe7390dad56/super-micro-stock-is-rising..html');\">\n",
       "<td align=\"right\" width=\"130\">\n",
       "            10:34AM\n",
       "        </td>\n",
       "<td align=\"left\">\n",
       "<div class=\"news-link-container\">\n",
       "<div class=\"news-link-left\">\n",
       "<a class=\"tab-link-news\" href=\"https://finance.yahoo.com/m/4fd2581b-c83d-3f15-873f-abe7390dad56/super-micro-stock-is-rising..html\" rel=\"nofollow\" target=\"_blank\">Super Micro Stock Is Rising. Why J.P. Morgan Raised Its Underweight Rating.</a>\n",
       "</div>\n",
       "<div class=\"news-link-right\">\n",
       "<span>(Barrons.com)</span></div></div></td></tr>\n",
       "<tr class=\"cursor-pointer has-label\" onclick=\"trackAndOpenNews(event, 'MarketBeat', 'https://www.marketbeat.com/originals/micron-stock-will-retest-all-time-highs-this-year/?utm_source=finviz\\u0026amp;utm_medium=finviz');\">\n",
       "<td align=\"right\" width=\"130\">\n",
       "            10:23AM\n",
       "        </td>\n",
       "<td align=\"left\">\n",
       "<div class=\"news-link-container\">\n",
       "<div class=\"news-link-left\">\n",
       "<a class=\"tab-link-news\" href=\"https://www.marketbeat.com/originals/micron-stock-will-retest-all-time-highs-this-year/?utm_source=finviz&amp;amp;utm_medium=finviz\" rel=\"nofollow\" target=\"_blank\">Micron Stock Will Retest All-Time Highs This Year</a>\n",
       "</div>\n",
       "<div class=\"news-link-right\">\n",
       "<span>(MarketBeat)</span></div></div></td></tr>\n",
       "<tr class=\"cursor-pointer has-label\" onclick=\"trackAndOpenNews(event, 'Quartz', 'https://finance.yahoo.com/news/quantum-computing-stocks-try-recover-142200152.html');\">\n",
       "<td align=\"right\" width=\"130\">\n",
       "            10:22AM\n",
       "        </td>\n",
       "<td align=\"left\">\n",
       "<div class=\"news-link-container\">\n",
       "<div class=\"news-link-left\">\n",
       "<a class=\"tab-link-news\" href=\"https://finance.yahoo.com/news/quantum-computing-stocks-try-recover-142200152.html\" rel=\"nofollow\" target=\"_blank\">Quantum computing stocks try to recover. Nvidia's Jensen Huang is sorry for tanking them last time</a>\n",
       "</div>\n",
       "<div class=\"news-link-right\">\n",
       "<span>(Quartz)</span></div></div></td></tr>\n",
       "<tr class=\"cursor-pointer has-label\" onclick=\"trackAndOpenNews(event, 'Yahoo Finance Video', 'https://finance.yahoo.com/video/nvidias-gtc-wraps-whats-next-141500607.html');\">\n",
       "<td align=\"right\" width=\"130\">\n",
       "            10:15AM\n",
       "        </td>\n",
       "<td align=\"left\">\n",
       "<div class=\"news-link-container\">\n",
       "<div class=\"news-link-left\">\n",
       "<a class=\"tab-link-news\" href=\"https://finance.yahoo.com/video/nvidias-gtc-wraps-whats-next-141500607.html\" rel=\"nofollow\" target=\"_blank\">As Nvidia's GTC wraps up, what's next for AI, quantum computing?</a>\n",
       "</div>\n",
       "<div class=\"news-link-right\">\n",
       "<span>(Yahoo Finance Video)</span></div></div></td></tr>\n",
       "<tr class=\"cursor-pointer has-label\" onclick=\"trackAndOpenNews(event, 'SeekingAlpha', 'https://seekingalpha.com/article/4769472-nvidia-positions-itself-as-ai-infrastructure-provider?utm_source=finviz.com\\u0026utm_medium=referral\\u0026feed_item_type=article');\">\n",
       "<td align=\"right\" width=\"130\">\n",
       "            10:05AM\n",
       "        </td>\n",
       "<td align=\"left\">\n",
       "<div class=\"news-link-container\">\n",
       "<div class=\"news-link-left\">\n",
       "<a class=\"tab-link-news\" href=\"https://seekingalpha.com/article/4769472-nvidia-positions-itself-as-ai-infrastructure-provider?utm_source=finviz.com&amp;utm_medium=referral&amp;feed_item_type=article\" rel=\"nofollow\" target=\"_blank\">Nvidia Positions Itself As AI Infrastructure Provider</a>\n",
       "</div>\n",
       "<div class=\"news-link-right\">\n",
       "<span>(SeekingAlpha)</span></div></div></td></tr>\n",
       "<tr class=\"cursor-pointer has-label\" onclick=\"trackAndOpenNews(event, 'Quartz', 'https://finance.yahoo.com/news/nvidia-micron-nike-nio-carnival-114700714.html');\">\n",
       "<td align=\"right\" width=\"130\">\n",
       "            09:51AM\n",
       "        </td>\n",
       "<td align=\"left\">\n",
       "<div class=\"news-link-container\">\n",
       "<div class=\"news-link-left\">\n",
       "<a class=\"tab-link-news\" href=\"https://finance.yahoo.com/news/nvidia-micron-nike-nio-carnival-114700714.html\" rel=\"nofollow\" target=\"_blank\">Nvidia, Micron, Nike, Nio, Carnival, FedEx: Stocks to watch</a>\n",
       "</div>\n",
       "<div class=\"news-link-right\">\n",
       "<span>(Quartz)</span></div></div></td></tr>\n",
       "<tr class=\"cursor-pointer has-label\" onclick=\"trackAndOpenNews(event, 'Zacks', 'https://www.zacks.com/stock/news/2433352/how-nvidia-nvda-stock-stands-out-in-a-strong-industry?cid=CS-FINVIZ-FT-tale_of_the_tape|industry_rank_and_rising_estimates-2433352');\">\n",
       "<td align=\"right\" width=\"130\">\n",
       "            09:47AM\n",
       "        </td>\n",
       "<td align=\"left\">\n",
       "<div class=\"news-link-container\">\n",
       "<div class=\"news-link-left\">\n",
       "<a class=\"tab-link-news\" href=\"https://www.zacks.com/stock/news/2433352/how-nvidia-nvda-stock-stands-out-in-a-strong-industry?cid=CS-FINVIZ-FT-tale_of_the_tape|industry_rank_and_rising_estimates-2433352\" rel=\"nofollow\" target=\"_blank\">How NVIDIA (NVDA) Stock Stands Out in a Strong Industry</a>\n",
       "</div>\n",
       "<div class=\"news-link-right\">\n",
       "<span>(Zacks)</span></div></div></td></tr>\n",
       "<tr class=\"cursor-pointer has-label\" onclick=\"trackAndOpenNews(event, 'Bloomberg', 'https://finance.yahoo.com/news/nvidia-death-cross-traders-high-134548268.html');\">\n",
       "<td align=\"right\" width=\"130\">\n",
       "            09:45AM\n",
       "        </td>\n",
       "<td align=\"left\">\n",
       "<div class=\"news-link-container\">\n",
       "<div class=\"news-link-left\">\n",
       "<a class=\"tab-link-news\" href=\"https://finance.yahoo.com/news/nvidia-death-cross-traders-high-134548268.html\" rel=\"nofollow\" target=\"_blank\">Nvidia Death Cross Has Traders on High Alert as Momentum Withers</a>\n",
       "</div>\n",
       "<div class=\"news-link-right\">\n",
       "<span>(Bloomberg)</span></div></div></td></tr>\n",
       "<tr class=\"cursor-pointer has-label\" onclick=\"trackAndOpenNews(event, 'GuruFocus.com', 'https://finance.yahoo.com/news/pasqal-integrates-nvidias-cuda-q-134348334.html');\">\n",
       "<td align=\"right\" width=\"130\">\n",
       "            09:43AM\n",
       "        </td>\n",
       "<td align=\"left\">\n",
       "<div class=\"news-link-container\">\n",
       "<div class=\"news-link-left\">\n",
       "<a class=\"tab-link-news\" href=\"https://finance.yahoo.com/news/pasqal-integrates-nvidias-cuda-q-134348334.html\" rel=\"nofollow\" target=\"_blank\">Pasqal Integrates With NVIDIA's CUDA-Q to Expand Access to Hybrid Quantum Computing</a>\n",
       "</div>\n",
       "<div class=\"news-link-right\">\n",
       "<span>(GuruFocus.com)</span></div></div></td></tr>\n",
       "<tr class=\"cursor-pointer has-label\" onclick=\"trackAndOpenNews(event, 'GuruFocus.com', 'https://finance.yahoo.com/news/nvidia-launch-quantum-computing-research-133535738.html');\">\n",
       "<td align=\"right\" width=\"130\">\n",
       "            09:35AM\n",
       "        </td>\n",
       "<td align=\"left\">\n",
       "<div class=\"news-link-container\">\n",
       "<div class=\"news-link-left\">\n",
       "<a class=\"tab-link-news\" href=\"https://finance.yahoo.com/news/nvidia-launch-quantum-computing-research-133535738.html\" rel=\"nofollow\" target=\"_blank\">NVIDIA to Launch Quantum Computing Research Center in Boston Using AI Supercomputers</a>\n",
       "</div>\n",
       "<div class=\"news-link-right\">\n",
       "<span>(GuruFocus.com)</span></div></div></td></tr>\n",
       "<tr class=\"cursor-pointer has-label\" onclick=\"trackAndOpenNews(event, 'Yahoo Finance', 'https://finance.yahoo.com/news/3-of-goldman-sachs-best-investing-tips-for-currently-volatile-markets-133052214.html');\">\n",
       "<td align=\"right\" width=\"130\">\n",
       "            09:30AM\n",
       "        </td>\n",
       "<td align=\"left\">\n",
       "<div class=\"news-link-container\">\n",
       "<div class=\"news-link-left\">\n",
       "<a class=\"tab-link-news\" href=\"https://finance.yahoo.com/news/3-of-goldman-sachs-best-investing-tips-for-currently-volatile-markets-133052214.html\" rel=\"nofollow\" target=\"_blank\">3 of Goldman Sachs' best investing tips for currently volatile markets</a>\n",
       "</div>\n",
       "<div class=\"news-link-right\">\n",
       "<span>(Yahoo Finance)</span></div></div></td></tr>\n",
       "<tr class=\"cursor-pointer has-label\" onclick=\"trackAndOpenNews(event, 'SeekingAlpha', 'https://seekingalpha.com/article/4769449-tesla-buying-the-dip-is-a-mistake?utm_source=finviz.com\\u0026utm_medium=referral\\u0026feed_item_type=article');\">\n",
       "<td align=\"right\" width=\"130\">\n",
       "            09:27AM\n",
       "        </td>\n",
       "<td align=\"left\">\n",
       "<div class=\"news-link-container\">\n",
       "<div class=\"news-link-left\">\n",
       "<a class=\"tab-link-news\" href=\"https://seekingalpha.com/article/4769449-tesla-buying-the-dip-is-a-mistake?utm_source=finviz.com&amp;utm_medium=referral&amp;feed_item_type=article\" rel=\"nofollow\" target=\"_blank\">Tesla: Buying The Dip Is A Mistake</a>\n",
       "</div>\n",
       "<div class=\"news-link-right\">\n",
       "<span>(SeekingAlpha)</span></div></div></td></tr>\n",
       "<tr class=\"cursor-pointer has-label\" onclick=\"trackAndOpenNews(event, 'SeekingAlpha', 'https://seekingalpha.com/article/4769441-cautiously-bought-tecl-leveraged-etf-shares-on-nasdaq-selloff?utm_source=finviz.com\\u0026utm_medium=referral\\u0026feed_item_type=article');\">\n",
       "<td align=\"right\" width=\"130\">\n",
       "            09:16AM\n",
       "        </td>\n",
       "<td align=\"left\">\n",
       "<div class=\"news-link-container\">\n",
       "<div class=\"news-link-left\">\n",
       "<a class=\"tab-link-news\" href=\"https://seekingalpha.com/article/4769441-cautiously-bought-tecl-leveraged-etf-shares-on-nasdaq-selloff?utm_source=finviz.com&amp;utm_medium=referral&amp;feed_item_type=article\" rel=\"nofollow\" target=\"_blank\">Cautiously Bought TECL Leveraged ETF Shares On Nasdaq Selloff</a>\n",
       "</div>\n",
       "<div class=\"news-link-right\">\n",
       "<span>(SeekingAlpha)</span></div></div></td></tr>\n",
       "<tr class=\"cursor-pointer has-label\" onclick=\"trackAndOpenNews(event, 'Yahoo Finance', 'https://finance.yahoo.com/news/nvidia-ceo-huang-tariffs-shouldnt-significantly-hurt-financials-hopes-to-increase-onshore-manufacturing-131510678.html');\">\n",
       "<td align=\"right\" width=\"130\">\n",
       "            09:15AM\n",
       "        </td>\n",
       "<td align=\"left\">\n",
       "<div class=\"news-link-container\">\n",
       "<div class=\"news-link-left\">\n",
       "<a class=\"tab-link-news\" href=\"https://finance.yahoo.com/news/nvidia-ceo-huang-tariffs-shouldnt-significantly-hurt-financials-hopes-to-increase-onshore-manufacturing-131510678.html\" rel=\"nofollow\" target=\"_blank\">Nvidia CEO Huang: Tariffs shouldn't 'significantly' hurt financials. Hopes to increase onshore manufacturing.</a>\n",
       "</div>\n",
       "<div class=\"news-link-right\">\n",
       "<span>(Yahoo Finance)</span></div></div></td></tr>\n",
       "<tr class=\"cursor-pointer has-label\" onclick=\"trackAndOpenNews(event, 'Yahoo Finance', 'https://finance.yahoo.com/news/nvidia-ceo-huang-says-tariffs-shouldnt-significantly-hurt-financials-hopes-to-increase-onshore-manufacturing-131510026.html');\">\n",
       "<td align=\"right\" width=\"130\">\n",
       "            09:15AM\n",
       "        </td>\n",
       "<td align=\"left\">\n",
       "<div class=\"news-link-container\">\n",
       "<div class=\"news-link-left\">\n",
       "<a class=\"tab-link-news\" href=\"https://finance.yahoo.com/news/nvidia-ceo-huang-says-tariffs-shouldnt-significantly-hurt-financials-hopes-to-increase-onshore-manufacturing-131510026.html\" rel=\"nofollow\" target=\"_blank\">Nvidia CEO Huang says tariffs shouldn't significantly hurt financials, hopes to increase onshore manufacturing</a>\n",
       "</div>\n",
       "<div class=\"news-link-right\">\n",
       "<span>(Yahoo Finance)</span></div></div></td></tr>\n",
       "<tr class=\"cursor-pointer has-label\" onclick=\"trackAndOpenNews(event, 'SeekingAlpha', 'https://seekingalpha.com/article/4769439-nvidia-the-show-is-nowhere-near-over?utm_source=finviz.com\\u0026utm_medium=referral\\u0026feed_item_type=article');\">\n",
       "<td align=\"right\" width=\"130\">\n",
       "            09:13AM\n",
       "        </td>\n",
       "<td align=\"left\">\n",
       "<div class=\"news-link-container\">\n",
       "<div class=\"news-link-left\">\n",
       "<a class=\"tab-link-news\" href=\"https://seekingalpha.com/article/4769439-nvidia-the-show-is-nowhere-near-over?utm_source=finviz.com&amp;utm_medium=referral&amp;feed_item_type=article\" rel=\"nofollow\" target=\"_blank\">Nvidia: The Show Is Nowhere Near Over</a>\n",
       "</div>\n",
       "<div class=\"news-link-right\">\n",
       "<span>(SeekingAlpha)</span></div></div></td></tr>\n",
       "<tr class=\"cursor-pointer has-label\" onclick=\"trackAndOpenNews(event, 'GuruFocus.com', 'https://finance.yahoo.com/news/nvidia-ceo-jensen-huang-clarifies-122935273.html');\">\n",
       "<td align=\"right\" width=\"130\">\n",
       "            08:29AM\n",
       "        </td>\n",
       "<td align=\"left\">\n",
       "<div class=\"news-link-container\">\n",
       "<div class=\"news-link-left\">\n",
       "<a class=\"tab-link-news\" href=\"https://finance.yahoo.com/news/nvidia-ceo-jensen-huang-clarifies-122935273.html\" rel=\"nofollow\" target=\"_blank\">Nvidia CEO Jensen Huang Clarifies Quantum Computing Comments at GTC</a>\n",
       "</div>\n",
       "<div class=\"news-link-right\">\n",
       "<span>(GuruFocus.com)</span></div></div></td></tr>\n",
       "<tr class=\"cursor-pointer has-label\" onclick=\"trackAndOpenNews(event, 'GuruFocus.com', 'https://finance.yahoo.com/news/nvidia-joins-forces-pasqal-power-122801165.html');\">\n",
       "<td align=\"right\" width=\"130\">\n",
       "            08:28AM\n",
       "        </td>\n",
       "<td align=\"left\">\n",
       "<div class=\"news-link-container\">\n",
       "<div class=\"news-link-left\">\n",
       "<a class=\"tab-link-news\" href=\"https://finance.yahoo.com/news/nvidia-joins-forces-pasqal-power-122801165.html\" rel=\"nofollow\" target=\"_blank\">Nvidia Joins Forces with Pasqal to Power Next-Gen Quantum Computing</a>\n",
       "</div>\n",
       "<div class=\"news-link-right\">\n",
       "<span>(GuruFocus.com)</span></div></div></td></tr>\n",
       "<tr class=\"cursor-pointer has-label\" onclick=\"trackAndOpenNews(event, 'Investor\\u0027s Business Daily', 'https://finance.yahoo.com/m/a8f2a4e0-5572-3825-98f2-b32f321f78f6/best-mutual-funds%3A-how-the.html');\">\n",
       "<td align=\"right\" width=\"130\">\n",
       "            08:25AM\n",
       "        </td>\n",
       "<td align=\"left\">\n",
       "<div class=\"news-link-container\">\n",
       "<div class=\"news-link-left\">\n",
       "<a class=\"tab-link-news\" href=\"https://finance.yahoo.com/m/a8f2a4e0-5572-3825-98f2-b32f321f78f6/best-mutual-funds%3A-how-the.html\" rel=\"nofollow\" target=\"_blank\">Best Mutual Funds: How The Winners Beat Their Benchmark</a>\n",
       "</div>\n",
       "<div class=\"news-link-right\">\n",
       "<span>(Investor's Business Daily)</span></div></div></td></tr>\n",
       "<tr class=\"cursor-pointer has-label\" onclick=\"trackAndOpenNews(event, 'Investor\\u0027s Business Daily', 'https://finance.yahoo.com/m/d5e7f957-e326-36b0-b5a0-b112fe644767/fidelity-investments-sweeps.html');\">\n",
       "<td align=\"right\" width=\"130\">\n",
       "            08:25AM\n",
       "        </td>\n",
       "<td align=\"left\">\n",
       "<div class=\"news-link-container\">\n",
       "<div class=\"news-link-left\">\n",
       "<a class=\"tab-link-news\" href=\"https://finance.yahoo.com/m/d5e7f957-e326-36b0-b5a0-b112fe644767/fidelity-investments-sweeps.html\" rel=\"nofollow\" target=\"_blank\">Fidelity Investments Sweeps 10th Annual IBD List Of Best Mutual Funds</a>\n",
       "</div>\n",
       "<div class=\"news-link-right\">\n",
       "<span>(Investor's Business Daily)</span></div></div></td></tr>\n",
       "<tr class=\"cursor-pointer has-label\" onclick=\"trackAndOpenNews(event, 'Barrons.com', 'https://finance.yahoo.com/m/88bb37e2-ebb1-380d-b1fc-faa0a7a185ff/these-stocks-are-moving-the.html');\">\n",
       "<td align=\"right\" width=\"130\">\n",
       "            08:25AM\n",
       "        </td>\n",
       "<td align=\"left\">\n",
       "<div class=\"news-link-container\">\n",
       "<div class=\"news-link-left\">\n",
       "<a class=\"tab-link-news\" href=\"https://finance.yahoo.com/m/88bb37e2-ebb1-380d-b1fc-faa0a7a185ff/these-stocks-are-moving-the.html\" rel=\"nofollow\" target=\"_blank\">These Stocks Are Moving the Most Today: FedEx, Nike, Micron, NIO, Lennar, Quantum Computing, Super Micro, and More</a>\n",
       "</div>\n",
       "<div class=\"news-link-right\">\n",
       "<span>(Barrons.com)</span></div></div></td></tr>\n",
       "<tr class=\"cursor-pointer has-label\" onclick=\"trackAndOpenNews(event, 'GuruFocus.com', 'https://finance.yahoo.com/news/quantum-stocks-plunge-nvidia-hosts-122225166.html');\">\n",
       "<td align=\"right\" width=\"130\">\n",
       "            08:22AM\n",
       "        </td>\n",
       "<td align=\"left\">\n",
       "<div class=\"news-link-container\">\n",
       "<div class=\"news-link-left\">\n",
       "<a class=\"tab-link-news\" href=\"https://finance.yahoo.com/news/quantum-stocks-plunge-nvidia-hosts-122225166.html\" rel=\"nofollow\" target=\"_blank\">Quantum Stocks Plunge as Nvidia Hosts First-Ever Quantum Day at GTC</a>\n",
       "</div>\n",
       "<div class=\"news-link-right\">\n",
       "<span>(GuruFocus.com)</span></div></div></td></tr>\n",
       "<tr class=\"cursor-pointer has-label\" onclick=\"trackAndOpenNews(event, 'Barrons.com', 'https://finance.yahoo.com/m/fe7feee1-eaa0-3eb2-98c3-e3d6fd5bfbb4/d-wave-stock-is-falling.-why.html');\">\n",
       "<td align=\"right\" width=\"130\">\n",
       "            08:22AM\n",
       "        </td>\n",
       "<td align=\"left\">\n",
       "<div class=\"news-link-container\">\n",
       "<div class=\"news-link-left\">\n",
       "<a class=\"tab-link-news\" href=\"https://finance.yahoo.com/m/fe7feee1-eaa0-3eb2-98c3-e3d6fd5bfbb4/d-wave-stock-is-falling.-why.html\" rel=\"nofollow\" target=\"_blank\">D-Wave Stock Is Falling. Why Nvidias Quantum Computing Event Hurt the Shares.</a>\n",
       "</div>\n",
       "<div class=\"news-link-right\">\n",
       "<span>(Barrons.com)</span></div></div></td></tr>\n",
       "<tr class=\"cursor-pointer has-label\" onclick=\"trackAndOpenNews(event, 'Investor\\u0027s Business Daily', 'https://finance.yahoo.com/m/d8e863f4-520a-372c-9645-5e15828ebe87/target-new-leaders%2C-not-old.html');\">\n",
       "<td align=\"right\" width=\"130\">\n",
       "            08:00AM\n",
       "        </td>\n",
       "<td align=\"left\">\n",
       "<div class=\"news-link-container\">\n",
       "<div class=\"news-link-left\">\n",
       "<a class=\"tab-link-news\" href=\"https://finance.yahoo.com/m/d8e863f4-520a-372c-9645-5e15828ebe87/target-new-leaders%2C-not-old.html\" rel=\"nofollow\" target=\"_blank\">Target New Leaders, Not Old In Early Stages Of Uptrend</a>\n",
       "</div>\n",
       "<div class=\"news-link-right\">\n",
       "<span>(Investor's Business Daily)</span></div></div></td></tr>\n",
       "<tr class=\"cursor-pointer has-label\" onclick=\"trackAndOpenNews(event, 'Zacks', 'https://www.zacks.com/commentary/2433060/2-cheap-artificial-intelligence-ai-stocks-to-buy-now-and-hold-forever?cid=CS-FINVIZ-FT-investment_ideas-2433060');\">\n",
       "<td align=\"right\" width=\"130\">\n",
       "            08:00AM\n",
       "        </td>\n",
       "<td align=\"left\">\n",
       "<div class=\"news-link-container\">\n",
       "<div class=\"news-link-left\">\n",
       "<a class=\"tab-link-news\" href=\"https://www.zacks.com/commentary/2433060/2-cheap-artificial-intelligence-ai-stocks-to-buy-now-and-hold-forever?cid=CS-FINVIZ-FT-investment_ideas-2433060\" rel=\"nofollow\" target=\"_blank\">2 Cheap Artificial Intelligence (AI) Stocks to Buy Now and Hold Forever</a>\n",
       "</div>\n",
       "<div class=\"news-link-right\">\n",
       "<span>(Zacks)</span></div></div></td></tr>\n",
       "<tr class=\"cursor-pointer has-label\" onclick=\"trackAndOpenNews(event, 'SeekingAlpha', 'https://seekingalpha.com/article/4769433-artisan-select-equity-fund-q4-2024-commentary?utm_source=finviz.com\\u0026utm_medium=referral\\u0026feed_item_type=article');\">\n",
       "<td align=\"right\" width=\"130\">\n",
       "            07:55AM\n",
       "        </td>\n",
       "<td align=\"left\">\n",
       "<div class=\"news-link-container\">\n",
       "<div class=\"news-link-left\">\n",
       "<a class=\"tab-link-news\" href=\"https://seekingalpha.com/article/4769433-artisan-select-equity-fund-q4-2024-commentary?utm_source=finviz.com&amp;utm_medium=referral&amp;feed_item_type=article\" rel=\"nofollow\" target=\"_blank\">Artisan Select Equity Fund Q4 2024 Commentary</a>\n",
       "</div>\n",
       "<div class=\"news-link-right\">\n",
       "<span>(SeekingAlpha)</span></div></div></td></tr>\n",
       "<tr class=\"cursor-pointer has-label\" onclick=\"trackAndOpenNews(event, 'Motley Fool', 'https://www.fool.com/investing/2025/03/21/stock-market-correction-here-are-my-top-5-stocks-t/?source=finviz\\u0026utm_source=finviz-host-full\\u0026utm_medium=feed\\u0026utm_campaign=article\\u0026referring_guid=f838e52a-8dc6-4095-be32-0d53978e91f2');\">\n",
       "<td align=\"right\" width=\"130\">\n",
       "            07:45AM\n",
       "        </td>\n",
       "<td align=\"left\">\n",
       "<div class=\"news-link-container\">\n",
       "<div class=\"news-link-left\">\n",
       "<a class=\"tab-link-news\" href=\"https://www.fool.com/investing/2025/03/21/stock-market-correction-here-are-my-top-5-stocks-t/?source=finviz&amp;utm_source=finviz-host-full&amp;utm_medium=feed&amp;utm_campaign=article&amp;referring_guid=f838e52a-8dc6-4095-be32-0d53978e91f2\" rel=\"nofollow\" target=\"_blank\">Stock Market Correction: Here Are My Top 5 Stocks That Could Soar By The End of 2025</a>\n",
       "</div>\n",
       "<div class=\"news-link-right\">\n",
       "<span>(Motley Fool)</span></div></div></td></tr>\n",
       "<tr class=\"cursor-pointer has-label\" onclick=\"trackAndOpenNews(event, 'SeekingAlpha', 'https://seekingalpha.com/article/4769419-blackrock-advantage-global-fund-q4-2024-commentary?utm_source=finviz.com\\u0026utm_medium=referral\\u0026feed_item_type=article');\">\n",
       "<td align=\"right\" width=\"130\">\n",
       "            07:30AM\n",
       "        </td>\n",
       "<td align=\"left\">\n",
       "<div class=\"news-link-container\">\n",
       "<div class=\"news-link-left\">\n",
       "<a class=\"tab-link-news\" href=\"https://seekingalpha.com/article/4769419-blackrock-advantage-global-fund-q4-2024-commentary?utm_source=finviz.com&amp;utm_medium=referral&amp;feed_item_type=article\" rel=\"nofollow\" target=\"_blank\">BlackRock Advantage Global Fund Q4 2024 Commentary</a>\n",
       "</div>\n",
       "<div class=\"news-link-right\">\n",
       "<span>(SeekingAlpha)</span></div></div></td></tr>\n",
       "<tr class=\"cursor-pointer has-label\" onclick=\"trackAndOpenNews(event, 'Motley Fool', 'https://www.fool.com/investing/2025/03/21/what-intel-meta-platforms-and-nvidia-stock-investo/?source=finviz\\u0026utm_source=finviz-host-full\\u0026utm_medium=feed\\u0026utm_campaign=article\\u0026referring_guid=655acd1c-73ae-4f6d-bd3f-fc87b436e816');\">\n",
       "<td align=\"right\" width=\"130\">\n",
       "            07:00AM\n",
       "        </td>\n",
       "<td align=\"left\">\n",
       "<div class=\"news-link-container\">\n",
       "<div class=\"news-link-left\">\n",
       "<a class=\"tab-link-news\" href=\"https://www.fool.com/investing/2025/03/21/what-intel-meta-platforms-and-nvidia-stock-investo/?source=finviz&amp;utm_source=finviz-host-full&amp;utm_medium=feed&amp;utm_campaign=article&amp;referring_guid=655acd1c-73ae-4f6d-bd3f-fc87b436e816\" rel=\"nofollow\" target=\"_blank\">What Intel, Meta Platforms, and Nvidia Stock Investors Should Know About Recent Updates</a>\n",
       "</div>\n",
       "<div class=\"news-link-right\">\n",
       "<span>(Motley Fool)</span></div></div></td></tr>\n",
       "<tr class=\"cursor-pointer has-label\" onclick=\"trackAndOpenNews(event, 'MarketBeat', 'https://www.marketbeat.com/stock-ideas/4-undervalued-growth-stocks-to-buy-and-hold-for-the-long-term/?utm_source=finviz\\u0026amp;utm_medium=finviz');\">\n",
       "<td align=\"right\" width=\"130\">\n",
       "            07:00AM\n",
       "        </td>\n",
       "<td align=\"left\">\n",
       "<div class=\"news-link-container\">\n",
       "<div class=\"news-link-left\">\n",
       "<a class=\"tab-link-news\" href=\"https://www.marketbeat.com/stock-ideas/4-undervalued-growth-stocks-to-buy-and-hold-for-the-long-term/?utm_source=finviz&amp;amp;utm_medium=finviz\" rel=\"nofollow\" target=\"_blank\">4 Undervalued Growth Stocks to Buy and Hold for the Long Term</a>\n",
       "</div>\n",
       "<div class=\"news-link-right\">\n",
       "<span>(MarketBeat)</span></div></div></td></tr>\n",
       "<tr class=\"cursor-pointer has-label\" onclick=\"trackAndOpenNews(event, 'Motley Fool', 'https://www.fool.com/investing/2025/03/21/gm-picks-nvidia/?source=finviz\\u0026utm_source=finviz-host-full\\u0026utm_medium=feed\\u0026utm_campaign=article\\u0026referring_guid=8e1eb667-cd16-49f5-968b-99e67a99586b');\">\n",
       "<td align=\"right\" width=\"130\">\n",
       "            06:45AM\n",
       "        </td>\n",
       "<td align=\"left\">\n",
       "<div class=\"news-link-container\">\n",
       "<div class=\"news-link-left\">\n",
       "<a class=\"tab-link-news\" href=\"https://www.fool.com/investing/2025/03/21/gm-picks-nvidia/?source=finviz&amp;utm_source=finviz-host-full&amp;utm_medium=feed&amp;utm_campaign=article&amp;referring_guid=8e1eb667-cd16-49f5-968b-99e67a99586b\" rel=\"nofollow\" target=\"_blank\">Nvidia Bombshell: GM Thinks Nvidia Is the Future of Autonomy</a>\n",
       "</div>\n",
       "<div class=\"news-link-right\">\n",
       "<span>(Motley Fool)</span></div></div></td></tr>\n",
       "<tr class=\"cursor-pointer has-label\" onclick=\"trackAndOpenNews(event, 'SeekingAlpha', 'https://seekingalpha.com/article/4769344-schg-vs-vug-both-are-an-equally-great-way-to-capture-the-tech-rebound?utm_source=finviz.com\\u0026utm_medium=referral\\u0026feed_item_type=article');\">\n",
       "<td align=\"right\" width=\"130\">\n",
       "            06:30AM\n",
       "        </td>\n",
       "<td align=\"left\">\n",
       "<div class=\"news-link-container\">\n",
       "<div class=\"news-link-left\">\n",
       "<a class=\"tab-link-news\" href=\"https://seekingalpha.com/article/4769344-schg-vs-vug-both-are-an-equally-great-way-to-capture-the-tech-rebound?utm_source=finviz.com&amp;utm_medium=referral&amp;feed_item_type=article\" rel=\"nofollow\" target=\"_blank\">SCHG Vs. VUG: Both Are An Equally Great Way To Capture The Tech Rebound</a>\n",
       "</div>\n",
       "<div class=\"news-link-right\">\n",
       "<span>(SeekingAlpha)</span></div></div></td></tr>\n",
       "<tr class=\"cursor-pointer has-label\" onclick=\"trackAndOpenNews(event, 'Verdict', 'https://finance.yahoo.com/m/241bb6e6-bb08-321e-9c23-5c51077e1a5b/coreweaveseeks-to-raise.html');\">\n",
       "<td align=\"right\" width=\"130\">\n",
       "            06:18AM\n",
       "        </td>\n",
       "<td align=\"left\">\n",
       "<div class=\"news-link-container\">\n",
       "<div class=\"news-link-left\">\n",
       "<a class=\"tab-link-news\" href=\"https://finance.yahoo.com/m/241bb6e6-bb08-321e-9c23-5c51077e1a5b/coreweaveseeks-to-raise.html\" rel=\"nofollow\" target=\"_blank\">CoreWeaveseeks to raise nearly $2.7bn in upcoming IPO</a>\n",
       "</div>\n",
       "<div class=\"news-link-right\">\n",
       "<span>(Verdict)</span></div></div></td></tr>\n",
       "<tr class=\"cursor-pointer has-label\" onclick=\"trackAndOpenNews(event, 'SeekingAlpha', 'https://seekingalpha.com/article/4769390-nvidia-likely-to-lose-further-market-share-in-china?utm_source=finviz.com\\u0026utm_medium=referral\\u0026feed_item_type=article');\">\n",
       "<td align=\"right\" width=\"130\">\n",
       "            06:09AM\n",
       "        </td>\n",
       "<td align=\"left\">\n",
       "<div class=\"news-link-container\">\n",
       "<div class=\"news-link-left\">\n",
       "<a class=\"tab-link-news\" href=\"https://seekingalpha.com/article/4769390-nvidia-likely-to-lose-further-market-share-in-china?utm_source=finviz.com&amp;utm_medium=referral&amp;feed_item_type=article\" rel=\"nofollow\" target=\"_blank\">Nvidia Is Likely To Lose Further Market Share In China</a>\n",
       "</div>\n",
       "<div class=\"news-link-right\">\n",
       "<span>(SeekingAlpha)</span></div></div></td></tr>\n",
       "<tr class=\"cursor-pointer has-label\" onclick=\"trackAndOpenNews(event, 'Barrons.com', 'https://finance.yahoo.com/m/1d03ac0b-d630-3587-8bb8-9ba580b08f1a/nvidia-stock-falls.-how-it.html');\">\n",
       "<td align=\"right\" width=\"130\">\n",
       "            06:09AM\n",
       "        </td>\n",
       "<td align=\"left\">\n",
       "<div class=\"news-link-container\">\n",
       "<div class=\"news-link-left\">\n",
       "<a class=\"tab-link-news\" href=\"https://finance.yahoo.com/m/1d03ac0b-d630-3587-8bb8-9ba580b08f1a/nvidia-stock-falls.-how-it.html\" rel=\"nofollow\" target=\"_blank\">Nvidia Stock Falls. How It Can Excite Markets Again.</a>\n",
       "</div>\n",
       "<div class=\"news-link-right\">\n",
       "<span>(Barrons.com)</span></div></div></td></tr>\n",
       "<tr class=\"cursor-pointer has-label\" onclick=\"trackAndOpenNews(event, 'Barrons.com', 'https://finance.yahoo.com/m/fe7feee1-eaa0-3eb2-98c3-e3d6fd5bfbb4/nvidia%E2%80%99s-quantum-computing.html');\">\n",
       "<td align=\"right\" width=\"130\">\n",
       "            06:02AM\n",
       "        </td>\n",
       "<td align=\"left\">\n",
       "<div class=\"news-link-container\">\n",
       "<div class=\"news-link-left\">\n",
       "<a class=\"tab-link-news\" href=\"https://finance.yahoo.com/m/fe7feee1-eaa0-3eb2-98c3-e3d6fd5bfbb4/nvidia%E2%80%99s-quantum-computing.html\" rel=\"nofollow\" target=\"_blank\">Nvidias Quantum Computing Event Was a Dud. Why D-Wave Stock and Others Are Falling.</a>\n",
       "</div>\n",
       "<div class=\"news-link-right\">\n",
       "<span>(Barrons.com)</span></div></div></td></tr>\n",
       "<tr class=\"cursor-pointer has-label\" onclick=\"trackAndOpenNews(event, 'Motley Fool', 'https://www.fool.com/investing/2025/03/21/nvidias-ceo-drops-fantastic-news-for-nvidia-stock/?source=finviz\\u0026utm_source=finviz-host-full\\u0026utm_medium=feed\\u0026utm_campaign=article\\u0026referring_guid=ec8763b7-47e6-4a7a-b0d5-02b1faa009b8');\">\n",
       "<td align=\"right\" width=\"130\">\n",
       "            05:45AM\n",
       "        </td>\n",
       "<td align=\"left\">\n",
       "<div class=\"news-link-container\">\n",
       "<div class=\"news-link-left\">\n",
       "<a class=\"tab-link-news\" href=\"https://www.fool.com/investing/2025/03/21/nvidias-ceo-drops-fantastic-news-for-nvidia-stock/?source=finviz&amp;utm_source=finviz-host-full&amp;utm_medium=feed&amp;utm_campaign=article&amp;referring_guid=ec8763b7-47e6-4a7a-b0d5-02b1faa009b8\" rel=\"nofollow\" target=\"_blank\">Nvidia's CEO Drops Fantastic News for Nvidia Stock Investors</a>\n",
       "</div>\n",
       "<div class=\"news-link-right\">\n",
       "<span>(Motley Fool)</span></div></div></td></tr>\n",
       "<tr class=\"cursor-pointer has-label\" onclick=\"trackAndOpenNews(event, 'Motley Fool', 'https://www.fool.com/investing/2025/03/21/did-nvidia-just-say-checkmate-to-amd/?source=finviz\\u0026utm_source=finviz-host-full\\u0026utm_medium=feed\\u0026utm_campaign=article\\u0026referring_guid=5922561c-6859-4fe7-abf3-94821c8e8599');\">\n",
       "<td align=\"right\" width=\"130\">\n",
       "            05:15AM\n",
       "        </td>\n",
       "<td align=\"left\">\n",
       "<div class=\"news-link-container\">\n",
       "<div class=\"news-link-left\">\n",
       "<a class=\"tab-link-news\" href=\"https://www.fool.com/investing/2025/03/21/did-nvidia-just-say-checkmate-to-amd/?source=finviz&amp;utm_source=finviz-host-full&amp;utm_medium=feed&amp;utm_campaign=article&amp;referring_guid=5922561c-6859-4fe7-abf3-94821c8e8599\" rel=\"nofollow\" target=\"_blank\">Did Nvidia Just Say Checkmate to AMD?</a>\n",
       "</div>\n",
       "<div class=\"news-link-right\">\n",
       "<span>(Motley Fool)</span></div></div></td></tr>\n",
       "</table>"
      ]
     },
     "execution_count": 3,
     "metadata": {},
     "output_type": "execute_result"
    }
   ],
   "source": [
    "def get_news(ticker):\n",
    "    url1 = finviz_url + ticker\n",
    "    req = requests.get(url1, headers={\"User-Agent\": \"Mozilla/5.0 (Windows NT 6.1; WOW64; rv:20.0) Gecko/20100101 Firefox/20.0\"})\n",
    "    \n",
    "    # Creating the Soup with the html response\n",
    "    html = BeautifulSoup(req.content, \"html.parser\")\n",
    "    \n",
    "    # Find 'news-table' in the html Soup and load it into 'news_table'\n",
    "    news_table = html.find(id='news-table')\n",
    "    return news_table\n",
    "\n",
    "ticker = 'NVDA'\n",
    "news_table = get_news(ticker)\n",
    "news_table # print the pure html code, data is not parsed yet\n"
   ]
  },
  {
   "cell_type": "code",
   "execution_count": 4,
   "metadata": {},
   "outputs": [
    {
     "name": "stdout",
     "output_type": "stream",
     "text": [
      "             datetime                                           Headline  \\\n",
      "0                 NaT     2 \"Magnificent Seven\" Stocks to Buy on the Dip   \n",
      "1 2025-03-23 03:55:00  Palantir Stock vs. Nvidia Stock: Wall Street S...   \n",
      "2 2025-03-23 03:02:00  Broadcom: Trillion Dollar Timeout (Rating Down...   \n",
      "3 2025-03-23 02:06:00           Nvidia: Ignore The Noise And Buy The Dip   \n",
      "4 2025-03-22 20:55:00  Is NVIDIA Corporation (NVDA) The Best Stock to...   \n",
      "\n",
      "             Source                                               Link  \n",
      "0     (Motley Fool)  https://www.fool.com/investing/2025/03/23/2-ma...  \n",
      "1     (Motley Fool)  https://www.fool.com/investing/2025/03/23/pala...  \n",
      "2    (SeekingAlpha)  https://seekingalpha.com/article/4769739-broad...  \n",
      "3    (SeekingAlpha)  https://seekingalpha.com/article/4769736-nvidi...  \n",
      "4  (Insider Monkey)  https://www.insidermonkey.com/blog/is-nvidia-c...  \n"
     ]
    },
    {
     "name": "stderr",
     "output_type": "stream",
     "text": [
      "C:\\Users\\Guillaume\\AppData\\Local\\Temp\\ipykernel_20000\\954778413.py:39: UserWarning: Could not infer format, so each element will be parsed individually, falling back to `dateutil`. To ensure parsing is consistent and as-expected, please specify a format.\n",
      "  news_df['datetime'] = pd.to_datetime(news_df['datetime'], errors='coerce')\n"
     ]
    }
   ],
   "source": [
    "#Need to Parse the pure html text above\n",
    "\n",
    "def parse_news_table(news_table):\n",
    "    # Find all rows in the table. tr = table row in html\n",
    "    rows = news_table.find_all('tr')\n",
    "    \n",
    "    dates = []\n",
    "    headlines = []\n",
    "    sources = []\n",
    "    links = []\n",
    "    \n",
    "    # Loop through each row and extract the relevant data\n",
    "    for row in rows:\n",
    "        # Get the date and time. td = table data in html\n",
    "        date_time = row.find('td', align='right')\n",
    "        if date_time:\n",
    "            dates.append(date_time.text.strip())\n",
    "        \n",
    "        # Get the headline and link\n",
    "        headline_tag = row.find('a', class_='tab-link-news')\n",
    "        if headline_tag:\n",
    "            headlines.append(headline_tag.text.strip())\n",
    "            links.append(headline_tag['href'])\n",
    "        \n",
    "        # Get the source (YF, Reuters...) div = genereic container in html, used for grouping content\n",
    "        source_tag = row.find('div', class_='news-link-right')\n",
    "        if source_tag:\n",
    "            sources.append(source_tag.text.strip())\n",
    "    \n",
    "    # Create a DataFrame from the lists\n",
    "    news_df = pd.DataFrame({\n",
    "        'datetime': dates,\n",
    "        'Headline': headlines,\n",
    "        'Source': sources,\n",
    "        'Link': links\n",
    "    })\n",
    "\n",
    "    # Convert datetime to proper format\n",
    "    news_df['datetime'] = pd.to_datetime(news_df['datetime'], errors='coerce')\n",
    "\n",
    "    return news_df\n",
    "\n",
    "# Example usage:\n",
    "ticker = 'NVDA'\n",
    "news_table = get_news(ticker)\n",
    "parsed_news_df = parse_news_table(news_table)\n",
    "\n",
    "# Display the parsed DataFrame\n",
    "print(parsed_news_df.head())"
   ]
  },
  {
   "cell_type": "markdown",
   "metadata": {},
   "source": [
    "Step 2: Using the VADER sentiment analyzer to give a score to each headlines"
   ]
  },
  {
   "cell_type": "code",
   "execution_count": 5,
   "metadata": {},
   "outputs": [
    {
     "data": {
      "application/vnd.microsoft.datawrangler.viewer.v0+json": {
       "columns": [
        {
         "name": "datetime",
         "rawType": "datetime64[ns]",
         "type": "datetime"
        },
        {
         "name": "Headline",
         "rawType": "object",
         "type": "string"
        },
        {
         "name": "Source",
         "rawType": "object",
         "type": "string"
        },
        {
         "name": "Link",
         "rawType": "object",
         "type": "string"
        },
        {
         "name": "neg",
         "rawType": "float64",
         "type": "float"
        },
        {
         "name": "neu",
         "rawType": "float64",
         "type": "float"
        },
        {
         "name": "pos",
         "rawType": "float64",
         "type": "float"
        },
        {
         "name": "sentiment_score",
         "rawType": "float64",
         "type": "float"
        }
       ],
       "conversionMethod": "pd.DataFrame",
       "ref": "58bfc496-e2c4-4d0f-ab4d-df43d656b93d",
       "rows": [
        [
         null,
         "2 \"Magnificent Seven\" Stocks to Buy on the Dip",
         "(Motley Fool)",
         "https://www.fool.com/investing/2025/03/23/2-magnificent-seven-stocks-to-buy-on-the-dip/?source=finviz&utm_source=finviz-host-full&utm_medium=feed&utm_campaign=article&referring_guid=3bdc1c1c-5f8c-4449-b8eb-82026ed8ac72",
         "0.0",
         "0.642",
         "0.358",
         "0.5994"
        ],
        [
         "2025-03-23 03:55:00",
         "Palantir Stock vs. Nvidia Stock: Wall Street Says Buy One Before It Soars 50%",
         "(Motley Fool)",
         "https://www.fool.com/investing/2025/03/23/palantir-stock-vs-nvidia-stock-wall-street-buy-50/?source=finviz&utm_source=finviz-host-full&utm_medium=feed&utm_campaign=article&referring_guid=5018264c-e5bd-485a-81a4-5bdc625bbbb9",
         "0.0",
         "1.0",
         "0.0",
         "0.0"
        ],
        [
         "2025-03-23 03:02:00",
         "Broadcom: Trillion Dollar Timeout (Rating Downgrade)",
         "(SeekingAlpha)",
         "https://seekingalpha.com/article/4769739-broadcom-trillion-dollar-timeout-rating-downgrade?utm_source=finviz.com&utm_medium=referral&feed_item_type=article",
         "0.0",
         "1.0",
         "0.0",
         "0.0"
        ],
        [
         "2025-03-23 02:06:00",
         "Nvidia: Ignore The Noise And Buy The Dip",
         "(SeekingAlpha)",
         "https://seekingalpha.com/article/4769736-nvidia-ignore-the-noise-and-buy-the-dip?utm_source=finviz.com&utm_medium=referral&feed_item_type=article",
         "0.263",
         "0.737",
         "0.0",
         "-0.3612"
        ],
        [
         "2025-03-22 20:55:00",
         "Is NVIDIA Corporation (NVDA) The Best Stock to Buy According to Billionaire Ray Dalio?",
         "(Insider Monkey)",
         "https://www.insidermonkey.com/blog/is-nvidia-corporation-nvda-the-best-stock-to-buy-according-to-billionaire-ray-dalio-2-1489780/",
         "0.0",
         "0.756",
         "0.244",
         "0.6369"
        ]
       ],
       "shape": {
        "columns": 7,
        "rows": 5
       }
      },
      "text/html": [
       "<div>\n",
       "<style scoped>\n",
       "    .dataframe tbody tr th:only-of-type {\n",
       "        vertical-align: middle;\n",
       "    }\n",
       "\n",
       "    .dataframe tbody tr th {\n",
       "        vertical-align: top;\n",
       "    }\n",
       "\n",
       "    .dataframe thead th {\n",
       "        text-align: right;\n",
       "    }\n",
       "</style>\n",
       "<table border=\"1\" class=\"dataframe\">\n",
       "  <thead>\n",
       "    <tr style=\"text-align: right;\">\n",
       "      <th></th>\n",
       "      <th>Headline</th>\n",
       "      <th>Source</th>\n",
       "      <th>Link</th>\n",
       "      <th>neg</th>\n",
       "      <th>neu</th>\n",
       "      <th>pos</th>\n",
       "      <th>sentiment_score</th>\n",
       "    </tr>\n",
       "    <tr>\n",
       "      <th>datetime</th>\n",
       "      <th></th>\n",
       "      <th></th>\n",
       "      <th></th>\n",
       "      <th></th>\n",
       "      <th></th>\n",
       "      <th></th>\n",
       "      <th></th>\n",
       "    </tr>\n",
       "  </thead>\n",
       "  <tbody>\n",
       "    <tr>\n",
       "      <th>NaT</th>\n",
       "      <td>2 \"Magnificent Seven\" Stocks to Buy on the Dip</td>\n",
       "      <td>(Motley Fool)</td>\n",
       "      <td>https://www.fool.com/investing/2025/03/23/2-ma...</td>\n",
       "      <td>0.000</td>\n",
       "      <td>0.642</td>\n",
       "      <td>0.358</td>\n",
       "      <td>0.5994</td>\n",
       "    </tr>\n",
       "    <tr>\n",
       "      <th>2025-03-23 03:55:00</th>\n",
       "      <td>Palantir Stock vs. Nvidia Stock: Wall Street S...</td>\n",
       "      <td>(Motley Fool)</td>\n",
       "      <td>https://www.fool.com/investing/2025/03/23/pala...</td>\n",
       "      <td>0.000</td>\n",
       "      <td>1.000</td>\n",
       "      <td>0.000</td>\n",
       "      <td>0.0000</td>\n",
       "    </tr>\n",
       "    <tr>\n",
       "      <th>2025-03-23 03:02:00</th>\n",
       "      <td>Broadcom: Trillion Dollar Timeout (Rating Down...</td>\n",
       "      <td>(SeekingAlpha)</td>\n",
       "      <td>https://seekingalpha.com/article/4769739-broad...</td>\n",
       "      <td>0.000</td>\n",
       "      <td>1.000</td>\n",
       "      <td>0.000</td>\n",
       "      <td>0.0000</td>\n",
       "    </tr>\n",
       "    <tr>\n",
       "      <th>2025-03-23 02:06:00</th>\n",
       "      <td>Nvidia: Ignore The Noise And Buy The Dip</td>\n",
       "      <td>(SeekingAlpha)</td>\n",
       "      <td>https://seekingalpha.com/article/4769736-nvidi...</td>\n",
       "      <td>0.263</td>\n",
       "      <td>0.737</td>\n",
       "      <td>0.000</td>\n",
       "      <td>-0.3612</td>\n",
       "    </tr>\n",
       "    <tr>\n",
       "      <th>2025-03-22 20:55:00</th>\n",
       "      <td>Is NVIDIA Corporation (NVDA) The Best Stock to...</td>\n",
       "      <td>(Insider Monkey)</td>\n",
       "      <td>https://www.insidermonkey.com/blog/is-nvidia-c...</td>\n",
       "      <td>0.000</td>\n",
       "      <td>0.756</td>\n",
       "      <td>0.244</td>\n",
       "      <td>0.6369</td>\n",
       "    </tr>\n",
       "  </tbody>\n",
       "</table>\n",
       "</div>"
      ],
      "text/plain": [
       "                                                              Headline  \\\n",
       "datetime                                                                 \n",
       "NaT                     2 \"Magnificent Seven\" Stocks to Buy on the Dip   \n",
       "2025-03-23 03:55:00  Palantir Stock vs. Nvidia Stock: Wall Street S...   \n",
       "2025-03-23 03:02:00  Broadcom: Trillion Dollar Timeout (Rating Down...   \n",
       "2025-03-23 02:06:00           Nvidia: Ignore The Noise And Buy The Dip   \n",
       "2025-03-22 20:55:00  Is NVIDIA Corporation (NVDA) The Best Stock to...   \n",
       "\n",
       "                               Source  \\\n",
       "datetime                                \n",
       "NaT                     (Motley Fool)   \n",
       "2025-03-23 03:55:00     (Motley Fool)   \n",
       "2025-03-23 03:02:00    (SeekingAlpha)   \n",
       "2025-03-23 02:06:00    (SeekingAlpha)   \n",
       "2025-03-22 20:55:00  (Insider Monkey)   \n",
       "\n",
       "                                                                  Link    neg  \\\n",
       "datetime                                                                        \n",
       "NaT                  https://www.fool.com/investing/2025/03/23/2-ma...  0.000   \n",
       "2025-03-23 03:55:00  https://www.fool.com/investing/2025/03/23/pala...  0.000   \n",
       "2025-03-23 03:02:00  https://seekingalpha.com/article/4769739-broad...  0.000   \n",
       "2025-03-23 02:06:00  https://seekingalpha.com/article/4769736-nvidi...  0.263   \n",
       "2025-03-22 20:55:00  https://www.insidermonkey.com/blog/is-nvidia-c...  0.000   \n",
       "\n",
       "                       neu    pos  sentiment_score  \n",
       "datetime                                            \n",
       "NaT                  0.642  0.358           0.5994  \n",
       "2025-03-23 03:55:00  1.000  0.000           0.0000  \n",
       "2025-03-23 03:02:00  1.000  0.000           0.0000  \n",
       "2025-03-23 02:06:00  0.737  0.000          -0.3612  \n",
       "2025-03-22 20:55:00  0.756  0.244           0.6369  "
      ]
     },
     "execution_count": 5,
     "metadata": {},
     "output_type": "execute_result"
    }
   ],
   "source": [
    "def score_news(parsed_news_df):\n",
    "    #Creating an instance of the vader sentiment analyzer\n",
    "    vader = SentimentIntensityAnalyzer()\n",
    "\n",
    "    # Iterate through the headlines and get the polarity / sentiment scores using vader\n",
    "    scores = parsed_news_df['Headline'].apply(vader.polarity_scores).tolist()\n",
    "\n",
    "    # Convert the 'scores' list of dicts into a DataFrame\n",
    "    scores_df = pd.DataFrame(scores)\n",
    "\n",
    "    # Join the DataFrames of the news and the list of dicts (scores)\n",
    "    parsed_and_scored_news = parsed_news_df.join(scores_df, rsuffix='-right')\n",
    "    parsed_and_scored_news = parsed_and_scored_news.set_index('datetime')\n",
    "\n",
    "    # Remove 'date' and 'time' columns only if they exist\n",
    "    for col in ['date', 'time']:\n",
    "        if col in parsed_and_scored_news.columns:\n",
    "            parsed_and_scored_news = parsed_and_scored_news.drop([col], axis=1)\n",
    "\n",
    "    # Rename the sentiment column to 'sentiment_score'\n",
    "    parsed_and_scored_news = parsed_and_scored_news.rename(columns={\"compound\": \"sentiment_score\"})\n",
    "\n",
    "    return parsed_and_scored_news\n",
    "\n",
    "# Example usage:\n",
    "parsed_and_scored_news = score_news(parsed_news_df)\n",
    "parsed_and_scored_news.head()\n"
   ]
  },
  {
   "cell_type": "code",
   "execution_count": 6,
   "metadata": {},
   "outputs": [
    {
     "name": "stdout",
     "output_type": "stream",
     "text": [
      "datetime\n",
      "NaT                    0.5994\n",
      "2025-03-23 03:55:00    0.0000\n",
      "2025-03-23 03:02:00    0.0000\n",
      "2025-03-23 02:06:00   -0.3612\n",
      "2025-03-22 20:55:00    0.6369\n",
      "                        ...  \n",
      "2025-03-23 06:09:00   -0.1280\n",
      "2025-03-23 06:09:00    0.4767\n",
      "2025-03-23 06:02:00   -0.3818\n",
      "2025-03-23 05:45:00    0.5574\n",
      "2025-03-23 05:15:00    0.0000\n",
      "Name: sentiment_score, Length: 100, dtype: float64\n"
     ]
    }
   ],
   "source": [
    "print(parsed_and_scored_news['sentiment_score'])"
   ]
  },
  {
   "cell_type": "markdown",
   "metadata": {},
   "source": [
    "Step 3 : Visualizing the data"
   ]
  },
  {
   "cell_type": "code",
   "execution_count": 7,
   "metadata": {},
   "outputs": [
    {
     "data": {
      "application/vnd.plotly.v1+json": {
       "config": {
        "plotlyServerURL": "https://plot.ly"
       },
       "data": [
        {
         "alignmentgroup": "True",
         "hovertemplate": "Hour of Day=%{x}<br>y=%{y}<extra></extra>",
         "legendgroup": "",
         "marker": {
          "color": "#636efa",
          "pattern": {
           "shape": ""
          }
         },
         "name": "",
         "offsetgroup": "",
         "orientation": "v",
         "showlegend": false,
         "textposition": "auto",
         "type": "bar",
         "x": [
          0,
          2,
          3,
          4,
          5,
          6,
          7,
          8,
          9,
          10,
          11,
          12,
          13,
          14,
          15,
          16,
          17,
          18,
          19,
          20,
          23
         ],
         "xaxis": "x",
         "y": [
          0,
          -0.3612,
          0,
          0.2551333333333334,
          0.2787,
          0.09863333333333335,
          0.11915714285714286,
          0.19852,
          0.23507272727272727,
          -0.01102857142857143,
          0.0845125,
          0.1256888888888889,
          0.0073999999999999995,
          -0.17,
          0.03588,
          0.30616000000000004,
          0,
          0.18045,
          0.4588,
          0.3398,
          0.5574
         ],
         "yaxis": "y"
        }
       ],
       "layout": {
        "barmode": "relative",
        "legend": {
         "tracegroupgap": 0
        },
        "template": {
         "data": {
          "bar": [
           {
            "error_x": {
             "color": "#2a3f5f"
            },
            "error_y": {
             "color": "#2a3f5f"
            },
            "marker": {
             "line": {
              "color": "#E5ECF6",
              "width": 0.5
             },
             "pattern": {
              "fillmode": "overlay",
              "size": 10,
              "solidity": 0.2
             }
            },
            "type": "bar"
           }
          ],
          "barpolar": [
           {
            "marker": {
             "line": {
              "color": "#E5ECF6",
              "width": 0.5
             },
             "pattern": {
              "fillmode": "overlay",
              "size": 10,
              "solidity": 0.2
             }
            },
            "type": "barpolar"
           }
          ],
          "carpet": [
           {
            "aaxis": {
             "endlinecolor": "#2a3f5f",
             "gridcolor": "white",
             "linecolor": "white",
             "minorgridcolor": "white",
             "startlinecolor": "#2a3f5f"
            },
            "baxis": {
             "endlinecolor": "#2a3f5f",
             "gridcolor": "white",
             "linecolor": "white",
             "minorgridcolor": "white",
             "startlinecolor": "#2a3f5f"
            },
            "type": "carpet"
           }
          ],
          "choropleth": [
           {
            "colorbar": {
             "outlinewidth": 0,
             "ticks": ""
            },
            "type": "choropleth"
           }
          ],
          "contour": [
           {
            "colorbar": {
             "outlinewidth": 0,
             "ticks": ""
            },
            "colorscale": [
             [
              0,
              "#0d0887"
             ],
             [
              0.1111111111111111,
              "#46039f"
             ],
             [
              0.2222222222222222,
              "#7201a8"
             ],
             [
              0.3333333333333333,
              "#9c179e"
             ],
             [
              0.4444444444444444,
              "#bd3786"
             ],
             [
              0.5555555555555556,
              "#d8576b"
             ],
             [
              0.6666666666666666,
              "#ed7953"
             ],
             [
              0.7777777777777778,
              "#fb9f3a"
             ],
             [
              0.8888888888888888,
              "#fdca26"
             ],
             [
              1,
              "#f0f921"
             ]
            ],
            "type": "contour"
           }
          ],
          "contourcarpet": [
           {
            "colorbar": {
             "outlinewidth": 0,
             "ticks": ""
            },
            "type": "contourcarpet"
           }
          ],
          "heatmap": [
           {
            "colorbar": {
             "outlinewidth": 0,
             "ticks": ""
            },
            "colorscale": [
             [
              0,
              "#0d0887"
             ],
             [
              0.1111111111111111,
              "#46039f"
             ],
             [
              0.2222222222222222,
              "#7201a8"
             ],
             [
              0.3333333333333333,
              "#9c179e"
             ],
             [
              0.4444444444444444,
              "#bd3786"
             ],
             [
              0.5555555555555556,
              "#d8576b"
             ],
             [
              0.6666666666666666,
              "#ed7953"
             ],
             [
              0.7777777777777778,
              "#fb9f3a"
             ],
             [
              0.8888888888888888,
              "#fdca26"
             ],
             [
              1,
              "#f0f921"
             ]
            ],
            "type": "heatmap"
           }
          ],
          "heatmapgl": [
           {
            "colorbar": {
             "outlinewidth": 0,
             "ticks": ""
            },
            "colorscale": [
             [
              0,
              "#0d0887"
             ],
             [
              0.1111111111111111,
              "#46039f"
             ],
             [
              0.2222222222222222,
              "#7201a8"
             ],
             [
              0.3333333333333333,
              "#9c179e"
             ],
             [
              0.4444444444444444,
              "#bd3786"
             ],
             [
              0.5555555555555556,
              "#d8576b"
             ],
             [
              0.6666666666666666,
              "#ed7953"
             ],
             [
              0.7777777777777778,
              "#fb9f3a"
             ],
             [
              0.8888888888888888,
              "#fdca26"
             ],
             [
              1,
              "#f0f921"
             ]
            ],
            "type": "heatmapgl"
           }
          ],
          "histogram": [
           {
            "marker": {
             "pattern": {
              "fillmode": "overlay",
              "size": 10,
              "solidity": 0.2
             }
            },
            "type": "histogram"
           }
          ],
          "histogram2d": [
           {
            "colorbar": {
             "outlinewidth": 0,
             "ticks": ""
            },
            "colorscale": [
             [
              0,
              "#0d0887"
             ],
             [
              0.1111111111111111,
              "#46039f"
             ],
             [
              0.2222222222222222,
              "#7201a8"
             ],
             [
              0.3333333333333333,
              "#9c179e"
             ],
             [
              0.4444444444444444,
              "#bd3786"
             ],
             [
              0.5555555555555556,
              "#d8576b"
             ],
             [
              0.6666666666666666,
              "#ed7953"
             ],
             [
              0.7777777777777778,
              "#fb9f3a"
             ],
             [
              0.8888888888888888,
              "#fdca26"
             ],
             [
              1,
              "#f0f921"
             ]
            ],
            "type": "histogram2d"
           }
          ],
          "histogram2dcontour": [
           {
            "colorbar": {
             "outlinewidth": 0,
             "ticks": ""
            },
            "colorscale": [
             [
              0,
              "#0d0887"
             ],
             [
              0.1111111111111111,
              "#46039f"
             ],
             [
              0.2222222222222222,
              "#7201a8"
             ],
             [
              0.3333333333333333,
              "#9c179e"
             ],
             [
              0.4444444444444444,
              "#bd3786"
             ],
             [
              0.5555555555555556,
              "#d8576b"
             ],
             [
              0.6666666666666666,
              "#ed7953"
             ],
             [
              0.7777777777777778,
              "#fb9f3a"
             ],
             [
              0.8888888888888888,
              "#fdca26"
             ],
             [
              1,
              "#f0f921"
             ]
            ],
            "type": "histogram2dcontour"
           }
          ],
          "mesh3d": [
           {
            "colorbar": {
             "outlinewidth": 0,
             "ticks": ""
            },
            "type": "mesh3d"
           }
          ],
          "parcoords": [
           {
            "line": {
             "colorbar": {
              "outlinewidth": 0,
              "ticks": ""
             }
            },
            "type": "parcoords"
           }
          ],
          "pie": [
           {
            "automargin": true,
            "type": "pie"
           }
          ],
          "scatter": [
           {
            "fillpattern": {
             "fillmode": "overlay",
             "size": 10,
             "solidity": 0.2
            },
            "type": "scatter"
           }
          ],
          "scatter3d": [
           {
            "line": {
             "colorbar": {
              "outlinewidth": 0,
              "ticks": ""
             }
            },
            "marker": {
             "colorbar": {
              "outlinewidth": 0,
              "ticks": ""
             }
            },
            "type": "scatter3d"
           }
          ],
          "scattercarpet": [
           {
            "marker": {
             "colorbar": {
              "outlinewidth": 0,
              "ticks": ""
             }
            },
            "type": "scattercarpet"
           }
          ],
          "scattergeo": [
           {
            "marker": {
             "colorbar": {
              "outlinewidth": 0,
              "ticks": ""
             }
            },
            "type": "scattergeo"
           }
          ],
          "scattergl": [
           {
            "marker": {
             "colorbar": {
              "outlinewidth": 0,
              "ticks": ""
             }
            },
            "type": "scattergl"
           }
          ],
          "scattermapbox": [
           {
            "marker": {
             "colorbar": {
              "outlinewidth": 0,
              "ticks": ""
             }
            },
            "type": "scattermapbox"
           }
          ],
          "scatterpolar": [
           {
            "marker": {
             "colorbar": {
              "outlinewidth": 0,
              "ticks": ""
             }
            },
            "type": "scatterpolar"
           }
          ],
          "scatterpolargl": [
           {
            "marker": {
             "colorbar": {
              "outlinewidth": 0,
              "ticks": ""
             }
            },
            "type": "scatterpolargl"
           }
          ],
          "scatterternary": [
           {
            "marker": {
             "colorbar": {
              "outlinewidth": 0,
              "ticks": ""
             }
            },
            "type": "scatterternary"
           }
          ],
          "surface": [
           {
            "colorbar": {
             "outlinewidth": 0,
             "ticks": ""
            },
            "colorscale": [
             [
              0,
              "#0d0887"
             ],
             [
              0.1111111111111111,
              "#46039f"
             ],
             [
              0.2222222222222222,
              "#7201a8"
             ],
             [
              0.3333333333333333,
              "#9c179e"
             ],
             [
              0.4444444444444444,
              "#bd3786"
             ],
             [
              0.5555555555555556,
              "#d8576b"
             ],
             [
              0.6666666666666666,
              "#ed7953"
             ],
             [
              0.7777777777777778,
              "#fb9f3a"
             ],
             [
              0.8888888888888888,
              "#fdca26"
             ],
             [
              1,
              "#f0f921"
             ]
            ],
            "type": "surface"
           }
          ],
          "table": [
           {
            "cells": {
             "fill": {
              "color": "#EBF0F8"
             },
             "line": {
              "color": "white"
             }
            },
            "header": {
             "fill": {
              "color": "#C8D4E3"
             },
             "line": {
              "color": "white"
             }
            },
            "type": "table"
           }
          ]
         },
         "layout": {
          "annotationdefaults": {
           "arrowcolor": "#2a3f5f",
           "arrowhead": 0,
           "arrowwidth": 1
          },
          "autotypenumbers": "strict",
          "coloraxis": {
           "colorbar": {
            "outlinewidth": 0,
            "ticks": ""
           }
          },
          "colorscale": {
           "diverging": [
            [
             0,
             "#8e0152"
            ],
            [
             0.1,
             "#c51b7d"
            ],
            [
             0.2,
             "#de77ae"
            ],
            [
             0.3,
             "#f1b6da"
            ],
            [
             0.4,
             "#fde0ef"
            ],
            [
             0.5,
             "#f7f7f7"
            ],
            [
             0.6,
             "#e6f5d0"
            ],
            [
             0.7,
             "#b8e186"
            ],
            [
             0.8,
             "#7fbc41"
            ],
            [
             0.9,
             "#4d9221"
            ],
            [
             1,
             "#276419"
            ]
           ],
           "sequential": [
            [
             0,
             "#0d0887"
            ],
            [
             0.1111111111111111,
             "#46039f"
            ],
            [
             0.2222222222222222,
             "#7201a8"
            ],
            [
             0.3333333333333333,
             "#9c179e"
            ],
            [
             0.4444444444444444,
             "#bd3786"
            ],
            [
             0.5555555555555556,
             "#d8576b"
            ],
            [
             0.6666666666666666,
             "#ed7953"
            ],
            [
             0.7777777777777778,
             "#fb9f3a"
            ],
            [
             0.8888888888888888,
             "#fdca26"
            ],
            [
             1,
             "#f0f921"
            ]
           ],
           "sequentialminus": [
            [
             0,
             "#0d0887"
            ],
            [
             0.1111111111111111,
             "#46039f"
            ],
            [
             0.2222222222222222,
             "#7201a8"
            ],
            [
             0.3333333333333333,
             "#9c179e"
            ],
            [
             0.4444444444444444,
             "#bd3786"
            ],
            [
             0.5555555555555556,
             "#d8576b"
            ],
            [
             0.6666666666666666,
             "#ed7953"
            ],
            [
             0.7777777777777778,
             "#fb9f3a"
            ],
            [
             0.8888888888888888,
             "#fdca26"
            ],
            [
             1,
             "#f0f921"
            ]
           ]
          },
          "colorway": [
           "#636efa",
           "#EF553B",
           "#00cc96",
           "#ab63fa",
           "#FFA15A",
           "#19d3f3",
           "#FF6692",
           "#B6E880",
           "#FF97FF",
           "#FECB52"
          ],
          "font": {
           "color": "#2a3f5f"
          },
          "geo": {
           "bgcolor": "white",
           "lakecolor": "white",
           "landcolor": "#E5ECF6",
           "showlakes": true,
           "showland": true,
           "subunitcolor": "white"
          },
          "hoverlabel": {
           "align": "left"
          },
          "hovermode": "closest",
          "mapbox": {
           "style": "light"
          },
          "paper_bgcolor": "white",
          "plot_bgcolor": "#E5ECF6",
          "polar": {
           "angularaxis": {
            "gridcolor": "white",
            "linecolor": "white",
            "ticks": ""
           },
           "bgcolor": "#E5ECF6",
           "radialaxis": {
            "gridcolor": "white",
            "linecolor": "white",
            "ticks": ""
           }
          },
          "scene": {
           "xaxis": {
            "backgroundcolor": "#E5ECF6",
            "gridcolor": "white",
            "gridwidth": 2,
            "linecolor": "white",
            "showbackground": true,
            "ticks": "",
            "zerolinecolor": "white"
           },
           "yaxis": {
            "backgroundcolor": "#E5ECF6",
            "gridcolor": "white",
            "gridwidth": 2,
            "linecolor": "white",
            "showbackground": true,
            "ticks": "",
            "zerolinecolor": "white"
           },
           "zaxis": {
            "backgroundcolor": "#E5ECF6",
            "gridcolor": "white",
            "gridwidth": 2,
            "linecolor": "white",
            "showbackground": true,
            "ticks": "",
            "zerolinecolor": "white"
           }
          },
          "shapedefaults": {
           "line": {
            "color": "#2a3f5f"
           }
          },
          "ternary": {
           "aaxis": {
            "gridcolor": "white",
            "linecolor": "white",
            "ticks": ""
           },
           "baxis": {
            "gridcolor": "white",
            "linecolor": "white",
            "ticks": ""
           },
           "bgcolor": "#E5ECF6",
           "caxis": {
            "gridcolor": "white",
            "linecolor": "white",
            "ticks": ""
           }
          },
          "title": {
           "x": 0.05
          },
          "xaxis": {
           "automargin": true,
           "gridcolor": "white",
           "linecolor": "white",
           "ticks": "",
           "title": {
            "standoff": 15
           },
           "zerolinecolor": "white",
           "zerolinewidth": 2
          },
          "yaxis": {
           "automargin": true,
           "gridcolor": "white",
           "linecolor": "white",
           "ticks": "",
           "title": {
            "standoff": 15
           },
           "zerolinecolor": "white",
           "zerolinewidth": 2
          }
         }
        },
        "title": {
         "text": "NVDA Hourly Sentiment Scores"
        },
        "xaxis": {
         "anchor": "y",
         "domain": [
          0,
          1
         ],
         "title": {
          "text": "Hour of Day"
         }
        },
        "yaxis": {
         "anchor": "x",
         "domain": [
          0,
          1
         ],
         "title": {
          "text": "y"
         }
        }
       }
      }
     },
     "metadata": {},
     "output_type": "display_data"
    },
    {
     "data": {
      "application/vnd.plotly.v1+json": {
       "config": {
        "plotlyServerURL": "https://plot.ly"
       },
       "data": [
        {
         "alignmentgroup": "True",
         "hovertemplate": "Date=%{x}<br>y=%{y}<extra></extra>",
         "legendgroup": "",
         "marker": {
          "color": "#636efa",
          "pattern": {
           "shape": ""
          }
         },
         "name": "",
         "offsetgroup": "",
         "orientation": "v",
         "showlegend": false,
         "textposition": "auto",
         "type": "bar",
         "x": [
          "2025-03-21",
          "2025-03-22",
          "2025-03-23"
         ],
         "xaxis": "x",
         "y": [
          0.5574,
          0.6369,
          0.12179072164948454
         ],
         "yaxis": "y"
        }
       ],
       "layout": {
        "barmode": "relative",
        "legend": {
         "tracegroupgap": 0
        },
        "template": {
         "data": {
          "bar": [
           {
            "error_x": {
             "color": "#2a3f5f"
            },
            "error_y": {
             "color": "#2a3f5f"
            },
            "marker": {
             "line": {
              "color": "#E5ECF6",
              "width": 0.5
             },
             "pattern": {
              "fillmode": "overlay",
              "size": 10,
              "solidity": 0.2
             }
            },
            "type": "bar"
           }
          ],
          "barpolar": [
           {
            "marker": {
             "line": {
              "color": "#E5ECF6",
              "width": 0.5
             },
             "pattern": {
              "fillmode": "overlay",
              "size": 10,
              "solidity": 0.2
             }
            },
            "type": "barpolar"
           }
          ],
          "carpet": [
           {
            "aaxis": {
             "endlinecolor": "#2a3f5f",
             "gridcolor": "white",
             "linecolor": "white",
             "minorgridcolor": "white",
             "startlinecolor": "#2a3f5f"
            },
            "baxis": {
             "endlinecolor": "#2a3f5f",
             "gridcolor": "white",
             "linecolor": "white",
             "minorgridcolor": "white",
             "startlinecolor": "#2a3f5f"
            },
            "type": "carpet"
           }
          ],
          "choropleth": [
           {
            "colorbar": {
             "outlinewidth": 0,
             "ticks": ""
            },
            "type": "choropleth"
           }
          ],
          "contour": [
           {
            "colorbar": {
             "outlinewidth": 0,
             "ticks": ""
            },
            "colorscale": [
             [
              0,
              "#0d0887"
             ],
             [
              0.1111111111111111,
              "#46039f"
             ],
             [
              0.2222222222222222,
              "#7201a8"
             ],
             [
              0.3333333333333333,
              "#9c179e"
             ],
             [
              0.4444444444444444,
              "#bd3786"
             ],
             [
              0.5555555555555556,
              "#d8576b"
             ],
             [
              0.6666666666666666,
              "#ed7953"
             ],
             [
              0.7777777777777778,
              "#fb9f3a"
             ],
             [
              0.8888888888888888,
              "#fdca26"
             ],
             [
              1,
              "#f0f921"
             ]
            ],
            "type": "contour"
           }
          ],
          "contourcarpet": [
           {
            "colorbar": {
             "outlinewidth": 0,
             "ticks": ""
            },
            "type": "contourcarpet"
           }
          ],
          "heatmap": [
           {
            "colorbar": {
             "outlinewidth": 0,
             "ticks": ""
            },
            "colorscale": [
             [
              0,
              "#0d0887"
             ],
             [
              0.1111111111111111,
              "#46039f"
             ],
             [
              0.2222222222222222,
              "#7201a8"
             ],
             [
              0.3333333333333333,
              "#9c179e"
             ],
             [
              0.4444444444444444,
              "#bd3786"
             ],
             [
              0.5555555555555556,
              "#d8576b"
             ],
             [
              0.6666666666666666,
              "#ed7953"
             ],
             [
              0.7777777777777778,
              "#fb9f3a"
             ],
             [
              0.8888888888888888,
              "#fdca26"
             ],
             [
              1,
              "#f0f921"
             ]
            ],
            "type": "heatmap"
           }
          ],
          "heatmapgl": [
           {
            "colorbar": {
             "outlinewidth": 0,
             "ticks": ""
            },
            "colorscale": [
             [
              0,
              "#0d0887"
             ],
             [
              0.1111111111111111,
              "#46039f"
             ],
             [
              0.2222222222222222,
              "#7201a8"
             ],
             [
              0.3333333333333333,
              "#9c179e"
             ],
             [
              0.4444444444444444,
              "#bd3786"
             ],
             [
              0.5555555555555556,
              "#d8576b"
             ],
             [
              0.6666666666666666,
              "#ed7953"
             ],
             [
              0.7777777777777778,
              "#fb9f3a"
             ],
             [
              0.8888888888888888,
              "#fdca26"
             ],
             [
              1,
              "#f0f921"
             ]
            ],
            "type": "heatmapgl"
           }
          ],
          "histogram": [
           {
            "marker": {
             "pattern": {
              "fillmode": "overlay",
              "size": 10,
              "solidity": 0.2
             }
            },
            "type": "histogram"
           }
          ],
          "histogram2d": [
           {
            "colorbar": {
             "outlinewidth": 0,
             "ticks": ""
            },
            "colorscale": [
             [
              0,
              "#0d0887"
             ],
             [
              0.1111111111111111,
              "#46039f"
             ],
             [
              0.2222222222222222,
              "#7201a8"
             ],
             [
              0.3333333333333333,
              "#9c179e"
             ],
             [
              0.4444444444444444,
              "#bd3786"
             ],
             [
              0.5555555555555556,
              "#d8576b"
             ],
             [
              0.6666666666666666,
              "#ed7953"
             ],
             [
              0.7777777777777778,
              "#fb9f3a"
             ],
             [
              0.8888888888888888,
              "#fdca26"
             ],
             [
              1,
              "#f0f921"
             ]
            ],
            "type": "histogram2d"
           }
          ],
          "histogram2dcontour": [
           {
            "colorbar": {
             "outlinewidth": 0,
             "ticks": ""
            },
            "colorscale": [
             [
              0,
              "#0d0887"
             ],
             [
              0.1111111111111111,
              "#46039f"
             ],
             [
              0.2222222222222222,
              "#7201a8"
             ],
             [
              0.3333333333333333,
              "#9c179e"
             ],
             [
              0.4444444444444444,
              "#bd3786"
             ],
             [
              0.5555555555555556,
              "#d8576b"
             ],
             [
              0.6666666666666666,
              "#ed7953"
             ],
             [
              0.7777777777777778,
              "#fb9f3a"
             ],
             [
              0.8888888888888888,
              "#fdca26"
             ],
             [
              1,
              "#f0f921"
             ]
            ],
            "type": "histogram2dcontour"
           }
          ],
          "mesh3d": [
           {
            "colorbar": {
             "outlinewidth": 0,
             "ticks": ""
            },
            "type": "mesh3d"
           }
          ],
          "parcoords": [
           {
            "line": {
             "colorbar": {
              "outlinewidth": 0,
              "ticks": ""
             }
            },
            "type": "parcoords"
           }
          ],
          "pie": [
           {
            "automargin": true,
            "type": "pie"
           }
          ],
          "scatter": [
           {
            "fillpattern": {
             "fillmode": "overlay",
             "size": 10,
             "solidity": 0.2
            },
            "type": "scatter"
           }
          ],
          "scatter3d": [
           {
            "line": {
             "colorbar": {
              "outlinewidth": 0,
              "ticks": ""
             }
            },
            "marker": {
             "colorbar": {
              "outlinewidth": 0,
              "ticks": ""
             }
            },
            "type": "scatter3d"
           }
          ],
          "scattercarpet": [
           {
            "marker": {
             "colorbar": {
              "outlinewidth": 0,
              "ticks": ""
             }
            },
            "type": "scattercarpet"
           }
          ],
          "scattergeo": [
           {
            "marker": {
             "colorbar": {
              "outlinewidth": 0,
              "ticks": ""
             }
            },
            "type": "scattergeo"
           }
          ],
          "scattergl": [
           {
            "marker": {
             "colorbar": {
              "outlinewidth": 0,
              "ticks": ""
             }
            },
            "type": "scattergl"
           }
          ],
          "scattermapbox": [
           {
            "marker": {
             "colorbar": {
              "outlinewidth": 0,
              "ticks": ""
             }
            },
            "type": "scattermapbox"
           }
          ],
          "scatterpolar": [
           {
            "marker": {
             "colorbar": {
              "outlinewidth": 0,
              "ticks": ""
             }
            },
            "type": "scatterpolar"
           }
          ],
          "scatterpolargl": [
           {
            "marker": {
             "colorbar": {
              "outlinewidth": 0,
              "ticks": ""
             }
            },
            "type": "scatterpolargl"
           }
          ],
          "scatterternary": [
           {
            "marker": {
             "colorbar": {
              "outlinewidth": 0,
              "ticks": ""
             }
            },
            "type": "scatterternary"
           }
          ],
          "surface": [
           {
            "colorbar": {
             "outlinewidth": 0,
             "ticks": ""
            },
            "colorscale": [
             [
              0,
              "#0d0887"
             ],
             [
              0.1111111111111111,
              "#46039f"
             ],
             [
              0.2222222222222222,
              "#7201a8"
             ],
             [
              0.3333333333333333,
              "#9c179e"
             ],
             [
              0.4444444444444444,
              "#bd3786"
             ],
             [
              0.5555555555555556,
              "#d8576b"
             ],
             [
              0.6666666666666666,
              "#ed7953"
             ],
             [
              0.7777777777777778,
              "#fb9f3a"
             ],
             [
              0.8888888888888888,
              "#fdca26"
             ],
             [
              1,
              "#f0f921"
             ]
            ],
            "type": "surface"
           }
          ],
          "table": [
           {
            "cells": {
             "fill": {
              "color": "#EBF0F8"
             },
             "line": {
              "color": "white"
             }
            },
            "header": {
             "fill": {
              "color": "#C8D4E3"
             },
             "line": {
              "color": "white"
             }
            },
            "type": "table"
           }
          ]
         },
         "layout": {
          "annotationdefaults": {
           "arrowcolor": "#2a3f5f",
           "arrowhead": 0,
           "arrowwidth": 1
          },
          "autotypenumbers": "strict",
          "coloraxis": {
           "colorbar": {
            "outlinewidth": 0,
            "ticks": ""
           }
          },
          "colorscale": {
           "diverging": [
            [
             0,
             "#8e0152"
            ],
            [
             0.1,
             "#c51b7d"
            ],
            [
             0.2,
             "#de77ae"
            ],
            [
             0.3,
             "#f1b6da"
            ],
            [
             0.4,
             "#fde0ef"
            ],
            [
             0.5,
             "#f7f7f7"
            ],
            [
             0.6,
             "#e6f5d0"
            ],
            [
             0.7,
             "#b8e186"
            ],
            [
             0.8,
             "#7fbc41"
            ],
            [
             0.9,
             "#4d9221"
            ],
            [
             1,
             "#276419"
            ]
           ],
           "sequential": [
            [
             0,
             "#0d0887"
            ],
            [
             0.1111111111111111,
             "#46039f"
            ],
            [
             0.2222222222222222,
             "#7201a8"
            ],
            [
             0.3333333333333333,
             "#9c179e"
            ],
            [
             0.4444444444444444,
             "#bd3786"
            ],
            [
             0.5555555555555556,
             "#d8576b"
            ],
            [
             0.6666666666666666,
             "#ed7953"
            ],
            [
             0.7777777777777778,
             "#fb9f3a"
            ],
            [
             0.8888888888888888,
             "#fdca26"
            ],
            [
             1,
             "#f0f921"
            ]
           ],
           "sequentialminus": [
            [
             0,
             "#0d0887"
            ],
            [
             0.1111111111111111,
             "#46039f"
            ],
            [
             0.2222222222222222,
             "#7201a8"
            ],
            [
             0.3333333333333333,
             "#9c179e"
            ],
            [
             0.4444444444444444,
             "#bd3786"
            ],
            [
             0.5555555555555556,
             "#d8576b"
            ],
            [
             0.6666666666666666,
             "#ed7953"
            ],
            [
             0.7777777777777778,
             "#fb9f3a"
            ],
            [
             0.8888888888888888,
             "#fdca26"
            ],
            [
             1,
             "#f0f921"
            ]
           ]
          },
          "colorway": [
           "#636efa",
           "#EF553B",
           "#00cc96",
           "#ab63fa",
           "#FFA15A",
           "#19d3f3",
           "#FF6692",
           "#B6E880",
           "#FF97FF",
           "#FECB52"
          ],
          "font": {
           "color": "#2a3f5f"
          },
          "geo": {
           "bgcolor": "white",
           "lakecolor": "white",
           "landcolor": "#E5ECF6",
           "showlakes": true,
           "showland": true,
           "subunitcolor": "white"
          },
          "hoverlabel": {
           "align": "left"
          },
          "hovermode": "closest",
          "mapbox": {
           "style": "light"
          },
          "paper_bgcolor": "white",
          "plot_bgcolor": "#E5ECF6",
          "polar": {
           "angularaxis": {
            "gridcolor": "white",
            "linecolor": "white",
            "ticks": ""
           },
           "bgcolor": "#E5ECF6",
           "radialaxis": {
            "gridcolor": "white",
            "linecolor": "white",
            "ticks": ""
           }
          },
          "scene": {
           "xaxis": {
            "backgroundcolor": "#E5ECF6",
            "gridcolor": "white",
            "gridwidth": 2,
            "linecolor": "white",
            "showbackground": true,
            "ticks": "",
            "zerolinecolor": "white"
           },
           "yaxis": {
            "backgroundcolor": "#E5ECF6",
            "gridcolor": "white",
            "gridwidth": 2,
            "linecolor": "white",
            "showbackground": true,
            "ticks": "",
            "zerolinecolor": "white"
           },
           "zaxis": {
            "backgroundcolor": "#E5ECF6",
            "gridcolor": "white",
            "gridwidth": 2,
            "linecolor": "white",
            "showbackground": true,
            "ticks": "",
            "zerolinecolor": "white"
           }
          },
          "shapedefaults": {
           "line": {
            "color": "#2a3f5f"
           }
          },
          "ternary": {
           "aaxis": {
            "gridcolor": "white",
            "linecolor": "white",
            "ticks": ""
           },
           "baxis": {
            "gridcolor": "white",
            "linecolor": "white",
            "ticks": ""
           },
           "bgcolor": "#E5ECF6",
           "caxis": {
            "gridcolor": "white",
            "linecolor": "white",
            "ticks": ""
           }
          },
          "title": {
           "x": 0.05
          },
          "xaxis": {
           "automargin": true,
           "gridcolor": "white",
           "linecolor": "white",
           "ticks": "",
           "title": {
            "standoff": 15
           },
           "zerolinecolor": "white",
           "zerolinewidth": 2
          },
          "yaxis": {
           "automargin": true,
           "gridcolor": "white",
           "linecolor": "white",
           "ticks": "",
           "title": {
            "standoff": 15
           },
           "zerolinecolor": "white",
           "zerolinewidth": 2
          }
         }
        },
        "title": {
         "text": "NVDA Daily Sentiment Scores"
        },
        "xaxis": {
         "anchor": "y",
         "domain": [
          0,
          1
         ],
         "title": {
          "text": "Date"
         }
        },
        "yaxis": {
         "anchor": "x",
         "domain": [
          0,
          1
         ],
         "title": {
          "text": "y"
         }
        }
       }
      }
     },
     "metadata": {},
     "output_type": "display_data"
    }
   ],
   "source": [
    "def plot_sentiment(parsed_and_scored_news, ticker):\n",
    "    # Ensure that 'datetime' is the index\n",
    "    if 'datetime' not in parsed_and_scored_news.index.name:\n",
    "        parsed_and_scored_news = parsed_and_scored_news.set_index('datetime')\n",
    "\n",
    "    # Check if sentiment_score exists and is numeric\n",
    "    if 'sentiment_score' in parsed_and_scored_news.columns:\n",
    "        # Convert sentiment_score to numeric. If any error, coerce = transform the value to NaN\n",
    "        parsed_and_scored_news['sentiment_score'] = pd.to_numeric(parsed_and_scored_news['sentiment_score'], errors='coerce')\n",
    "    else:\n",
    "        print(\"Error: 'sentiment_score' column not found.\")\n",
    "\n",
    "    # Check if there are any NaN values and remove them\n",
    "    if parsed_and_scored_news['sentiment_score'].isnull().any():\n",
    "        print(\"Warning: There are NaN values in sentiment_score.\")\n",
    "        parsed_and_scored_news = parsed_and_scored_news.dropna(subset=['sentiment_score'])\n",
    "\n",
    "    # Hourly sentiment calculation\n",
    "    parsed_and_scored_news['hour'] = parsed_and_scored_news.index.hour\n",
    "    hourly_mean = parsed_and_scored_news.groupby('hour')['sentiment_score'].mean()\n",
    "\n",
    "    # Daily sentiment calculation\n",
    "    parsed_and_scored_news['date'] = parsed_and_scored_news.index.date\n",
    "    daily_mean = parsed_and_scored_news.groupby('date')['sentiment_score'].mean()\n",
    "\n",
    "    # Plotting both Hourly and Daily Sentiment Scores\n",
    "    # Hourly chart\n",
    "    fig1 = px.bar(hourly_mean, x=hourly_mean.index, y=hourly_mean, title=f'{ticker} Hourly Sentiment Scores', labels={'hour': 'Hour of Day', 'sentiment_score': 'Mean Sentiment Score'})\n",
    "\n",
    "    # Daily chart\n",
    "    fig2 = px.bar(daily_mean, x=daily_mean.index, y=daily_mean, title=f'{ticker} Daily Sentiment Scores', labels={'date': 'Date', 'sentiment_score': 'Mean Sentiment Score'})\n",
    "\n",
    "    # Display both charts\n",
    "    fig1.show()\n",
    "    fig2.show()\n",
    "\n",
    "# Example usage\n",
    "plot_sentiment(parsed_and_scored_news, 'NVDA')\n"
   ]
  }
 ],
 "metadata": {
  "kernelspec": {
   "display_name": "base",
   "language": "python",
   "name": "python3"
  },
  "language_info": {
   "codemirror_mode": {
    "name": "ipython",
    "version": 3
   },
   "file_extension": ".py",
   "mimetype": "text/x-python",
   "name": "python",
   "nbconvert_exporter": "python",
   "pygments_lexer": "ipython3",
   "version": "3.11.7"
  }
 },
 "nbformat": 4,
 "nbformat_minor": 2
}
