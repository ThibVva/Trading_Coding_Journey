{
 "cells": [
  {
   "cell_type": "markdown",
   "metadata": {},
   "source": [
    "Trading Bot: Copying US Congress Transactions\n",
    "\n",
    "To mitigate conflict of interets, insider trading and corruption risks, members of the US Congress are recquired to report the stock transactions they (or their asset manager) execute on their personal accounts.\n",
    "\n",
    "Still, Nancy Pelosi and other Democrats & Republicans alike have beaten the returns of Warren Buffet on several years.\n",
    "\n",
    "The strategy is simple. We will check whether US Congress members can earn superior returns and beat the market. We will track and monitor the US Congress trades and pick their favorite stocks, and also sell them when they get out.\n",
    "\n",
    "The below code is to webscrapp the website that report the US Congress transactions (https://www.capitoltrades.com/trades). The rest of the strategy, positionning and API to the broker is shown in other projects."
   ]
  },
  {
   "cell_type": "code",
   "execution_count": 2,
   "metadata": {},
   "outputs": [],
   "source": [
    "import requests\n",
    "from bs4 import BeautifulSoup\n",
    "import numpy as np\n",
    "import pandas as pd\n"
   ]
  },
  {
   "cell_type": "code",
   "execution_count": 3,
   "metadata": {},
   "outputs": [
    {
     "name": "stdout",
     "output_type": "stream",
     "text": [
      "['Politician', 'Traded Issuer', 'Published', 'Traded', 'Filed After', 'Owner', 'Type', 'Size', 'Price']\n",
      " Marjorie Taylor GreeneRepublicanHouseGA AbbVie IncABBV:US13:05Yesterday17 Mar2025 days2Undisclosedbuy1K–15K$214.47Goto trade detail page.\n",
      " Marjorie Taylor GreeneRepublicanHouseGA Alphabet IncGOOGL:US13:05Yesterday17 Mar2025 days2Undisclosedbuy1K–15K$166.57Goto trade detail page.\n",
      " Marjorie Taylor GreeneRepublicanHouseGA Apple IncAAPL:US13:05Yesterday17 Mar2025 days2Undisclosedbuy1K–15K$214.00Goto trade detail page.\n",
      " Marjorie Taylor GreeneRepublicanHouseGA Applied Materials IncAMAT:US13:05Yesterday17 Mar2025 days2Undisclosedbuy1K–15K$155.46Goto trade detail page.\n",
      " Marjorie Taylor GreeneRepublicanHouseGA Blackstone Group IncBX:US13:05Yesterday17 Mar2025 days2Undisclosedbuy1K–15K$147.78Goto trade detail page.\n",
      " Marjorie Taylor GreeneRepublicanHouseGA Cardinal Health IncCAH:US13:05Yesterday17 Mar2025 days2Undisclosedbuy1K–15K$130.03Goto trade detail page.\n",
      " Marjorie Taylor GreeneRepublicanHouseGA Caterpillar IncCAT:US13:05Yesterday17 Mar2025 days2Undisclosedbuy1K–15K$342.64Goto trade detail page.\n",
      " Marjorie Taylor GreeneRepublicanHouseGA Costco Wholesale CorpCOST:US13:05Yesterday17 Mar2025 days2Undisclosedbuy1K–15K$916.61Goto trade detail page.\n",
      " Marjorie Taylor GreeneRepublicanHouseGA Digital Realty Trust IncDLR:US13:05Yesterday17 Mar2025 days2Undisclosedbuy1K–15K$151.85Goto trade detail page.\n",
      " Marjorie Taylor GreeneRepublicanHouseGA Kinder Morgan IncKMI:US13:05Yesterday17 Mar2025 days2Undisclosedbuy1K–15K$27.79Goto trade detail page.\n",
      " Marjorie Taylor GreeneRepublicanHouseGA NVIDIA CorporationNVDA:US13:05Yesterday17 Mar2025 days2Undisclosedbuy1K–15K$119.53Goto trade detail page.\n",
      " Marjorie Taylor GreeneRepublicanHouseGA United Parcel Service IncUPS:US13:05Yesterday17 Mar2025 days2Undisclosedbuy1K–15K$118.06Goto trade detail page.\n"
     ]
    }
   ],
   "source": [
    "# This website aggregate all trades done by the US Congress with a lag, as they must detail their personal transactions and make them available to the public\n",
    "url = 'https://www.capitoltrades.com/trades'\n",
    "r = requests.get(url)\n",
    "\n",
    "#Debugging: check the type of the response\n",
    "#print(type(r))\n",
    "\n",
    "#create a BeautifulSoup object to parse the HTML content of the webpage\n",
    "soup = BeautifulSoup(r.content, 'html.parser')\n",
    "\n",
    "# Debugging: print the \"pretty\" version of the HTML\n",
    "#print(soup.prettify())\n",
    "\n",
    "# find the table header row (th in the html usually)\n",
    "header = soup.find_all('th')  # this will find all 'th' elements in the page\n",
    "\n",
    "columns_name = []\n",
    "# extracting header text from each table header element and appending it to the list\n",
    "for i in header:\n",
    "    columns_name.append(i.text)\n",
    "\n",
    "#removing any empty strings from the list of column names\n",
    "while '' in columns_name:\n",
    "    columns_name.remove('')\n",
    "\n",
    "print(columns_name)\n",
    "\n",
    "#find the table body in the BeautifulSoup object\n",
    "table = soup.find('tbody')\n",
    "\n",
    "temp = []\n",
    "#iterating over each row in the table body\n",
    "for i in table.find_all('tr'):\n",
    "    # checking if the row is not empty\n",
    "    if len(i.text) != 0:\n",
    "        # appending the text from each row to the temp list\n",
    "        temp.append(i.text)\n",
    "        print(i.text)\n"
   ]
  }
 ],
 "metadata": {
  "kernelspec": {
   "display_name": "base",
   "language": "python",
   "name": "python3"
  },
  "language_info": {
   "codemirror_mode": {
    "name": "ipython",
    "version": 3
   },
   "file_extension": ".py",
   "mimetype": "text/x-python",
   "name": "python",
   "nbconvert_exporter": "python",
   "pygments_lexer": "ipython3",
   "version": "3.11.7"
  }
 },
 "nbformat": 4,
 "nbformat_minor": 2
}
